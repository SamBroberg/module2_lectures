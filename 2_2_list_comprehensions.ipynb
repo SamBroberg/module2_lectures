{
  "nbformat": 4,
  "nbformat_minor": 0,
  "metadata": {
    "anaconda-cloud": {},
    "kernelspec": {
      "display_name": "Python 3",
      "language": "python",
      "name": "python3"
    },
    "language_info": {
      "codemirror_mode": {
        "name": "ipython",
        "version": 3
      },
      "file_extension": ".py",
      "mimetype": "text/x-python",
      "name": "python",
      "nbconvert_exporter": "python",
      "pygments_lexer": "ipython3",
      "version": "3.7.2"
    },
    "colab": {
      "name": "2_2_list_comprehensions.ipynb",
      "provenance": [],
      "include_colab_link": true
    }
  },
  "cells": [
    {
      "cell_type": "markdown",
      "metadata": {
        "id": "view-in-github",
        "colab_type": "text"
      },
      "source": [
        "<a href=\"https://colab.research.google.com/github/SamBroberg/module2_lectures/blob/master/2_2_list_comprehensions.ipynb\" target=\"_parent\"><img src=\"https://colab.research.google.com/assets/colab-badge.svg\" alt=\"Open In Colab\"/></a>"
      ]
    },
    {
      "cell_type": "markdown",
      "metadata": {
        "id": "Id01A36x9dVR",
        "colab_type": "text"
      },
      "source": [
        "# List Comprehensions\n",
        "\n",
        "## Objectives\n",
        "\n",
        "1. Understand the list comprehension syntax\n",
        "2. Demonstrate list processing with comprehensions\n",
        "3. Use list comprehensions in probability simulations"
      ]
    },
    {
      "cell_type": "markdown",
      "metadata": {
        "collapsed": true,
        "id": "tOxhxVOB9dVU",
        "colab_type": "text"
      },
      "source": [
        "## List Comprehension\n",
        "\n",
        "* Expression for constructing list\n",
        "* Returns a new list\n",
        "* Reads like math\n",
        "    * Set builder notation"
      ]
    },
    {
      "cell_type": "code",
      "metadata": {
        "id": "xynLXlz09dVV",
        "colab_type": "code",
        "colab": {
          "base_uri": "https://localhost:8080/",
          "height": 34
        },
        "outputId": "9d9e8893-13f4-43fa-da9c-a3d231ee7f02"
      },
      "source": [
        "mylist = [1,2,3,4,5]\n",
        "yourlist = [item ** 2 for item in mylist]\n",
        "yourlist"
      ],
      "execution_count": null,
      "outputs": [
        {
          "output_type": "execute_result",
          "data": {
            "text/plain": [
              "[1, 4, 9, 16, 25]"
            ]
          },
          "metadata": {
            "tags": []
          },
          "execution_count": 2
        }
      ]
    },
    {
      "cell_type": "markdown",
      "metadata": {
        "id": "jSa72XoD9dVd",
        "colab_type": "text"
      },
      "source": [
        "## Building a Comprehension\n",
        "\n",
        "\n",
        "    \n",
        "<img src=\"https://github.com/wsu-stat489/USCOTS2017_workshop/blob/master/img/listComprehensions.gif?raw=true\">"
      ]
    },
    {
      "cell_type": "markdown",
      "metadata": {
        "id": "vM2FwZJs9dVf",
        "colab_type": "text"
      },
      "source": [
        "## Building a List Comprehension\n",
        "\n",
        "1. Begin with an empty shell\n",
        "\n",
        "2. Insert the input sequence\n",
        "\n",
        "3. Give the elements a name"
      ]
    },
    {
      "cell_type": "markdown",
      "metadata": {
        "id": "6MEQw51e9dVi",
        "colab_type": "text"
      },
      "source": [
        "`L = [   for    in       ]`"
      ]
    },
    {
      "cell_type": "markdown",
      "metadata": {
        "id": "H2gTsHg-9dVl",
        "colab_type": "text"
      },
      "source": [
        "`L = [    for     in range(10)]`"
      ]
    },
    {
      "cell_type": "markdown",
      "metadata": {
        "id": "a-54mlcv9dVn",
        "colab_type": "text"
      },
      "source": [
        "`L = [    for num in range(10)]`"
      ]
    },
    {
      "cell_type": "code",
      "metadata": {
        "id": "jD50Mpq99dVq",
        "colab_type": "code",
        "colab": {
          "base_uri": "https://localhost:8080/",
          "height": 34
        },
        "outputId": "98e34d0b-71e4-48ff-efd0-4cfe590a2782"
      },
      "source": [
        "L = [num + 2 for num in range(10)]\n",
        "L"
      ],
      "execution_count": null,
      "outputs": [
        {
          "output_type": "execute_result",
          "data": {
            "text/plain": [
              "[2, 3, 4, 5, 6, 7, 8, 9, 10, 11]"
            ]
          },
          "metadata": {
            "tags": []
          },
          "execution_count": 3
        }
      ]
    },
    {
      "cell_type": "markdown",
      "metadata": {
        "id": "f6FGnx_Q9dV1",
        "colab_type": "text"
      },
      "source": [
        "## Adding an optional filter\n",
        "\n",
        "* The if portion is optional\n",
        "* Syntax: `if boolean_cond`\n",
        "    * After input sequence\n",
        "* Only keeps value for which the condition is `True`"
      ]
    },
    {
      "cell_type": "code",
      "metadata": {
        "id": "SQm4c8Mn9dV3",
        "colab_type": "code",
        "colab": {
          "base_uri": "https://localhost:8080/",
          "height": 34
        },
        "outputId": "2f1d61e4-d237-412c-a013-9baee61e71d3"
      },
      "source": [
        "L = [num + 2 for num in range(10) if num % 2 == 1]\n",
        "L"
      ],
      "execution_count": null,
      "outputs": [
        {
          "output_type": "execute_result",
          "data": {
            "text/plain": [
              "[3, 5, 7, 9, 11]"
            ]
          },
          "metadata": {
            "tags": []
          },
          "execution_count": 4
        }
      ]
    },
    {
      "cell_type": "markdown",
      "metadata": {
        "id": "r0rdFl9e9dV-",
        "colab_type": "text"
      },
      "source": [
        "### <font color='red'> Exercise 1 </font>\n",
        "\n",
        "Write a list comprehension that contains the squares for the numbers between 0 and 20 (inclusive).  **Hint:** Start with a `range`"
      ]
    },
    {
      "cell_type": "code",
      "metadata": {
        "id": "bSYlQIob9dWA",
        "colab_type": "code",
        "colab": {
          "base_uri": "https://localhost:8080/",
          "height": 370
        },
        "outputId": "c2cc70d2-7b5c-4a07-82e3-f5671624afba"
      },
      "source": [
        "S = [num**2 for num in range(21)]\n",
        "S"
      ],
      "execution_count": null,
      "outputs": [
        {
          "output_type": "execute_result",
          "data": {
            "text/plain": [
              "[0,\n",
              " 1,\n",
              " 4,\n",
              " 9,\n",
              " 16,\n",
              " 25,\n",
              " 36,\n",
              " 49,\n",
              " 64,\n",
              " 81,\n",
              " 100,\n",
              " 121,\n",
              " 144,\n",
              " 169,\n",
              " 196,\n",
              " 225,\n",
              " 256,\n",
              " 289,\n",
              " 324,\n",
              " 361,\n",
              " 400]"
            ]
          },
          "metadata": {
            "tags": []
          },
          "execution_count": 11
        }
      ]
    },
    {
      "cell_type": "markdown",
      "metadata": {
        "id": "XhX-54VO9dWI",
        "colab_type": "text"
      },
      "source": [
        "### <font color='red'> Exercise 2 </font>\n",
        "\n",
        "Write a list comprehension that contains all perfect squares less than 555.  **Hint:** Use a large range and a filter."
      ]
    },
    {
      "cell_type": "code",
      "metadata": {
        "id": "tMRnBHIm9dWK",
        "colab_type": "code",
        "colab": {}
      },
      "source": [
        "import math"
      ],
      "execution_count": null,
      "outputs": []
    },
    {
      "cell_type": "code",
      "metadata": {
        "id": "N_5JObT1AL_H",
        "colab_type": "code",
        "colab": {
          "base_uri": "https://localhost:8080/",
          "height": 420
        },
        "outputId": "e9d0219a-9d1a-43e5-8789-5871049bbe27"
      },
      "source": [
        "P = [num**2 for num in range(556) if num**2<555]\n",
        "P"
      ],
      "execution_count": null,
      "outputs": [
        {
          "output_type": "execute_result",
          "data": {
            "text/plain": [
              "[0,\n",
              " 1,\n",
              " 4,\n",
              " 9,\n",
              " 16,\n",
              " 25,\n",
              " 36,\n",
              " 49,\n",
              " 64,\n",
              " 81,\n",
              " 100,\n",
              " 121,\n",
              " 144,\n",
              " 169,\n",
              " 196,\n",
              " 225,\n",
              " 256,\n",
              " 289,\n",
              " 324,\n",
              " 361,\n",
              " 400,\n",
              " 441,\n",
              " 484,\n",
              " 529]"
            ]
          },
          "metadata": {
            "tags": []
          },
          "execution_count": 1
        }
      ]
    },
    {
      "cell_type": "markdown",
      "metadata": {
        "id": "J8MpcXFk9dWP",
        "colab_type": "text"
      },
      "source": [
        "## Splitting and processing string\n",
        "\n",
        "* Use `split` to cut a string into a list of strings\n",
        "* Use a comprehension to process the list."
      ]
    },
    {
      "cell_type": "code",
      "metadata": {
        "id": "g5H0RDUl9dWQ",
        "colab_type": "code",
        "colab": {
          "base_uri": "https://localhost:8080/",
          "height": 286
        },
        "outputId": "bee24f75-f7be-42de-cc02-484c80667503"
      },
      "source": [
        "quote = \"Don't judge each day by the harvest you reap but by the seeds that you plant.\"\n",
        "quote.split(\" \")"
      ],
      "execution_count": null,
      "outputs": [
        {
          "output_type": "execute_result",
          "data": {
            "text/plain": [
              "[\"Don't\",\n",
              " 'judge',\n",
              " 'each',\n",
              " 'day',\n",
              " 'by',\n",
              " 'the',\n",
              " 'harvest',\n",
              " 'you',\n",
              " 'reap',\n",
              " 'but',\n",
              " 'by',\n",
              " 'the',\n",
              " 'seeds',\n",
              " 'that',\n",
              " 'you',\n",
              " 'plant.']"
            ]
          },
          "metadata": {
            "tags": []
          },
          "execution_count": 19
        }
      ]
    },
    {
      "cell_type": "code",
      "metadata": {
        "id": "6pu9tVzh9dWY",
        "colab_type": "code",
        "colab": {
          "base_uri": "https://localhost:8080/",
          "height": 34
        },
        "outputId": "0c7c386b-ba91-4c31-f4c3-312b60ff7d0f"
      },
      "source": [
        "[len(word) for word in quote.split(\" \")]"
      ],
      "execution_count": null,
      "outputs": [
        {
          "output_type": "execute_result",
          "data": {
            "text/plain": [
              "[5, 5, 4, 3, 2, 3, 7, 3, 4, 3, 2, 3, 5, 4, 3, 6]"
            ]
          },
          "metadata": {
            "tags": []
          },
          "execution_count": 5
        }
      ]
    },
    {
      "cell_type": "markdown",
      "metadata": {
        "id": "ps8HD_5F9dWd",
        "colab_type": "text"
      },
      "source": [
        "### <font color='red'> Exercise 3 </font>\n",
        "\n",
        "Write a list comprehension that grabs the last two letter of each word.  **Hint:** Use the slice operation!"
      ]
    },
    {
      "cell_type": "code",
      "metadata": {
        "id": "jSV6CCEA9dWe",
        "colab_type": "code",
        "colab": {
          "base_uri": "https://localhost:8080/",
          "height": 286
        },
        "outputId": "7c91cca9-ac0e-469c-eba2-383c8c7bbe2e"
      },
      "source": [
        "[word[len(word)-2:] for word in quote.split(\" \")]"
      ],
      "execution_count": null,
      "outputs": [
        {
          "output_type": "execute_result",
          "data": {
            "text/plain": [
              "[\"'t\",\n",
              " 'ge',\n",
              " 'ch',\n",
              " 'ay',\n",
              " 'by',\n",
              " 'he',\n",
              " 'st',\n",
              " 'ou',\n",
              " 'ap',\n",
              " 'ut',\n",
              " 'by',\n",
              " 'he',\n",
              " 'ds',\n",
              " 'at',\n",
              " 'ou',\n",
              " 't.']"
            ]
          },
          "metadata": {
            "tags": []
          },
          "execution_count": 20
        }
      ]
    },
    {
      "cell_type": "markdown",
      "metadata": {
        "id": "PywMgJYI9dWk",
        "colab_type": "text"
      },
      "source": [
        "### <font color='red'> Exercise 4 </font>\n",
        "\n",
        "Write a list comprehension that contains all words that have at least 4 characters. "
      ]
    },
    {
      "cell_type": "code",
      "metadata": {
        "id": "Niv5WKs69dWl",
        "colab_type": "code",
        "colab": {
          "base_uri": "https://localhost:8080/",
          "height": 34
        },
        "outputId": "e06dbced-be4e-4a54-bb5b-5411d626c103"
      },
      "source": [
        "[word for word in quote.split(\" \") if len(word)>3]"
      ],
      "execution_count": null,
      "outputs": [
        {
          "output_type": "execute_result",
          "data": {
            "text/plain": [
              "[\"Don't\", 'judge', 'each', 'harvest', 'reap', 'seeds', 'that', 'plant.']"
            ]
          },
          "metadata": {
            "tags": []
          },
          "execution_count": 9
        }
      ]
    },
    {
      "cell_type": "markdown",
      "metadata": {
        "id": "ribvi7Hk9dWs",
        "colab_type": "text"
      },
      "source": [
        "### Comprehensions work on any input sequence"
      ]
    },
    {
      "cell_type": "code",
      "metadata": {
        "id": "Snt4yb7j9dWs",
        "colab_type": "code",
        "colab": {
          "base_uri": "https://localhost:8080/",
          "height": 34
        },
        "outputId": "94f7b551-ade8-4f4d-f685-2e042960451a"
      },
      "source": [
        "# On string - gives list of characters\n",
        "[ch for ch in \"Todd Iverson\"]"
      ],
      "execution_count": null,
      "outputs": [
        {
          "output_type": "execute_result",
          "data": {
            "text/plain": [
              "['T', 'o', 'd', 'd', ' ', 'I', 'v', 'e', 'r', 's', 'o', 'n']"
            ]
          },
          "metadata": {
            "tags": []
          },
          "execution_count": 10
        }
      ]
    },
    {
      "cell_type": "code",
      "metadata": {
        "id": "ZqxRG6ys9dWw",
        "colab_type": "code",
        "colab": {
          "base_uri": "https://localhost:8080/",
          "height": 34
        },
        "outputId": "9c1355ab-5370-472a-885e-b282ae93bf6c"
      },
      "source": [
        "# On tuple - converts to list\n",
        "[item for item in (1,2,3)]"
      ],
      "execution_count": null,
      "outputs": [
        {
          "output_type": "execute_result",
          "data": {
            "text/plain": [
              "[1, 2, 3]"
            ]
          },
          "metadata": {
            "tags": []
          },
          "execution_count": 11
        }
      ]
    },
    {
      "cell_type": "code",
      "metadata": {
        "id": "IriWjMfC9dW2",
        "colab_type": "code",
        "colab": {
          "base_uri": "https://localhost:8080/",
          "height": 34
        },
        "outputId": "eebe9fab-9ddc-45a1-ac06-1b8441856a4a"
      },
      "source": [
        "# On a lazy sequence\n",
        "[tup for tup in enumerate([\"a\", \"b\", \"c\"])]"
      ],
      "execution_count": null,
      "outputs": [
        {
          "output_type": "execute_result",
          "data": {
            "text/plain": [
              "[(0, 'a'), (1, 'b'), (2, 'c')]"
            ]
          },
          "metadata": {
            "tags": []
          },
          "execution_count": 12
        }
      ]
    },
    {
      "cell_type": "markdown",
      "metadata": {
        "id": "D6gda9B-9dW6",
        "colab_type": "text"
      },
      "source": [
        "## Writing Clean Code\n",
        "### Using helper functions\n",
        "\n",
        "* **Clean Code Rule 1:** Use helper functions to hide complexity"
      ]
    },
    {
      "cell_type": "code",
      "metadata": {
        "id": "QsHBeVVN9dW7",
        "colab_type": "code",
        "colab": {
          "base_uri": "https://localhost:8080/",
          "height": 34
        },
        "outputId": "df145744-ed78-4055-ee17-972c6b352c06"
      },
      "source": [
        "# Original comprehension\n",
        "[x**(1/3) for x in range(5) if x %2 == 1]"
      ],
      "execution_count": null,
      "outputs": [
        {
          "output_type": "execute_result",
          "data": {
            "text/plain": [
              "[1.0, 1.4422495703074083]"
            ]
          },
          "metadata": {
            "tags": []
          },
          "execution_count": 5
        }
      ]
    },
    {
      "cell_type": "markdown",
      "metadata": {
        "id": "mnQr3_Cn9dW_",
        "colab_type": "text"
      },
      "source": [
        "## Which is easier to read?"
      ]
    },
    {
      "cell_type": "code",
      "metadata": {
        "id": "K9eM8xMT9dXA",
        "colab_type": "code",
        "colab": {
          "base_uri": "https://localhost:8080/",
          "height": 34
        },
        "outputId": "835463bc-7f7e-4950-bd09-1bbf1deec7fd"
      },
      "source": [
        "[x**(1/3) for x in range(5) if x %2 == 1]\n",
        "[cube_root(x) for x in range(5) if is_odd(x)]"
      ],
      "execution_count": null,
      "outputs": [
        {
          "output_type": "execute_result",
          "data": {
            "text/plain": [
              "[1.0, 1.4422495703074083]"
            ]
          },
          "metadata": {
            "tags": []
          },
          "execution_count": 11
        }
      ]
    },
    {
      "cell_type": "markdown",
      "metadata": {
        "id": "4aFmK48F9dXF",
        "colab_type": "text"
      },
      "source": [
        "## Cleaning up list comprehensions\n",
        "\n",
        "1. Make a function for \n",
        "    1. the expression,\n",
        "    2. the sequence, and \n",
        "    3. the predicate\n",
        "2. Refactor by replacing code with function calls."
      ]
    },
    {
      "cell_type": "code",
      "metadata": {
        "id": "-ijZNKyJ9dXH",
        "colab_type": "code",
        "colab": {}
      },
      "source": [
        "# Helper functions\n",
        "is_odd = lambda x: x % 2 == 1\n",
        "cube_root = lambda x: x**(1/3)"
      ],
      "execution_count": null,
      "outputs": []
    },
    {
      "cell_type": "code",
      "metadata": {
        "scrolled": true,
        "id": "uYkAr1Wq9dXN",
        "colab_type": "code",
        "colab": {
          "base_uri": "https://localhost:8080/",
          "height": 34
        },
        "outputId": "7e6d467d-97ee-4045-eca2-f3a2a0c1a82e"
      },
      "source": [
        "# Refactored comprehension\n",
        "[cube_root(x) for x in range(5) if is_odd(x)]"
      ],
      "execution_count": null,
      "outputs": [
        {
          "output_type": "execute_result",
          "data": {
            "text/plain": [
              "[1.0, 1.4422495703074083]"
            ]
          },
          "metadata": {
            "tags": []
          },
          "execution_count": 13
        }
      ]
    },
    {
      "cell_type": "markdown",
      "metadata": {
        "id": "SfpGx-So9dXQ",
        "colab_type": "text"
      },
      "source": [
        "## Unpacking multiple items\n",
        "\n",
        "* Tuple unpacking assigns a name to each item\n",
        "* Can be use in a comprehension on a sequence of tuples"
      ]
    },
    {
      "cell_type": "code",
      "metadata": {
        "id": "HFoSWu2y9dXR",
        "colab_type": "code",
        "colab": {
          "base_uri": "https://localhost:8080/",
          "height": 34
        },
        "outputId": "d8ecda0a-fcdf-4aeb-f841-557cf0c38dbd"
      },
      "source": [
        "a, b, c = (1, 2, 3)\n",
        "b"
      ],
      "execution_count": null,
      "outputs": [
        {
          "output_type": "execute_result",
          "data": {
            "text/plain": [
              "2"
            ]
          },
          "metadata": {
            "tags": []
          },
          "execution_count": 14
        }
      ]
    },
    {
      "cell_type": "code",
      "metadata": {
        "id": "Dkr1YWNv9dXW",
        "colab_type": "code",
        "colab": {
          "base_uri": "https://localhost:8080/",
          "height": 34
        },
        "outputId": "0383bdbc-1567-488d-843c-dff37e4e0465"
      },
      "source": [
        "l = ['a', 'b', 'c']\n",
        "m = [1, 2, 3]\n",
        "# Without unpacking\n",
        "[item for item in zip(l, m)]"
      ],
      "execution_count": null,
      "outputs": [
        {
          "output_type": "execute_result",
          "data": {
            "text/plain": [
              "[('a', 1), ('b', 2), ('c', 3)]"
            ]
          },
          "metadata": {
            "tags": []
          },
          "execution_count": 15
        }
      ]
    },
    {
      "cell_type": "code",
      "metadata": {
        "id": "phn_Pmgn9dXa",
        "colab_type": "code",
        "colab": {
          "base_uri": "https://localhost:8080/",
          "height": 34
        },
        "outputId": "529676e2-413d-43a8-a50a-1f711ae7f524"
      },
      "source": [
        "# with unpacking\n",
        "[i + str(j) for i, j in zip(l, m)]"
      ],
      "execution_count": null,
      "outputs": [
        {
          "output_type": "execute_result",
          "data": {
            "text/plain": [
              "['a1', 'b2', 'c3']"
            ]
          },
          "metadata": {
            "tags": []
          },
          "execution_count": 16
        }
      ]
    },
    {
      "cell_type": "markdown",
      "metadata": {
        "id": "6P69XWw59dXe",
        "colab_type": "text"
      },
      "source": [
        "## <font color=\"red\"> Exercise 5 </font>\n",
        "\n",
        "You probably learned about the normal and standard normal distribution in your introductory statistics class.  In this activity, we will build up functions to simulate these distributions using a uniform random number generator."
      ]
    },
    {
      "cell_type": "markdown",
      "metadata": {
        "id": "-H_POIfg9dXe",
        "colab_type": "text"
      },
      "source": [
        "#### Step 1 -- Transform two uniform random variates into a standard normal random variate.\n",
        "\n",
        "We will use the [Box-Mueller transformation](https://en.wikipedia.org/wiki/Box%E2%80%93Muller_transform) to simulate turn two uniform random variates (generated with `random.random`) into a single standard normal variate.  **Hint:** In particular you want to implement the formula for $Z_0$ where $U_1$ and $U_2$ are two numbers generated using `random.random`.\n",
        "\n",
        "**Task:** Write a function called `std_norm_variate` that generates a single random normal variate."
      ]
    },
    {
      "cell_type": "code",
      "metadata": {
        "id": "oNQA0nl19dXf",
        "colab_type": "code",
        "colab": {}
      },
      "source": [
        "import math"
      ],
      "execution_count": 4,
      "outputs": []
    },
    {
      "cell_type": "code",
      "metadata": {
        "id": "T65vx2V7jhWM",
        "colab_type": "code",
        "colab": {}
      },
      "source": [
        "import random"
      ],
      "execution_count": 5,
      "outputs": []
    },
    {
      "cell_type": "code",
      "metadata": {
        "id": "c6MiIQ-Cishc",
        "colab_type": "code",
        "colab": {}
      },
      "source": [
        "Zo = lambda : math.sqrt(-2*math.log(random.random()))*math.cos(2*math.pi*random.random())"
      ],
      "execution_count": 24,
      "outputs": []
    },
    {
      "cell_type": "code",
      "metadata": {
        "id": "67uRBHfqjz2k",
        "colab_type": "code",
        "colab": {
          "base_uri": "https://localhost:8080/",
          "height": 34
        },
        "outputId": "dc12e052-be14-4980-8fa2-914d6c3de083"
      },
      "source": [
        "Zo()"
      ],
      "execution_count": 25,
      "outputs": [
        {
          "output_type": "execute_result",
          "data": {
            "text/plain": [
              "-0.6713413765304815"
            ]
          },
          "metadata": {
            "tags": []
          },
          "execution_count": 25
        }
      ]
    },
    {
      "cell_type": "markdown",
      "metadata": {
        "id": "KfyOXISV9dXj",
        "colab_type": "text"
      },
      "source": [
        "#### Step 2 -- Create function that generates many standard normal variates.\n",
        "\n",
        "Now use a list comprehension to create a function called `std_norm_variates` that has one argument `n` and returns `n` simulated random normal trials."
      ]
    },
    {
      "cell_type": "code",
      "metadata": {
        "id": "SIp8C-W_9dXj",
        "colab_type": "code",
        "colab": {}
      },
      "source": [
        "std_nrom_variates = lambda n:[Zo()*num for num in range(n)]"
      ],
      "execution_count": 26,
      "outputs": []
    },
    {
      "cell_type": "code",
      "metadata": {
        "id": "gYP4RzOfG9-3",
        "colab_type": "code",
        "colab": {
          "base_uri": "https://localhost:8080/",
          "height": 218
        },
        "outputId": "f9dda9f5-9509-434a-a98b-79213e82353b"
      },
      "source": [
        "std_nrom_variates(12)"
      ],
      "execution_count": 27,
      "outputs": [
        {
          "output_type": "execute_result",
          "data": {
            "text/plain": [
              "[0.0,\n",
              " -0.13152740189722026,\n",
              " 1.5423470116180678,\n",
              " 1.9183194786942874,\n",
              " 4.188674616723537,\n",
              " -1.8827330345167983,\n",
              " 0.7682059242049063,\n",
              " -2.9182487120768315,\n",
              " -10.54062302250835,\n",
              " -1.9381719168051879,\n",
              " -8.40016198713416,\n",
              " -9.35843965084912]"
            ]
          },
          "metadata": {
            "tags": []
          },
          "execution_count": 27
        }
      ]
    },
    {
      "cell_type": "markdown",
      "metadata": {
        "id": "LEMHmbtv9dXp",
        "colab_type": "text"
      },
      "source": [
        "#### Step 3 -- Transform a standard normal variate into a given normal variate.\n",
        "\n",
        "Suppose that `Z` is a standard normal variate and we want to simulate $X~Norm(\\mu, \\sigma)$.  It can be shown that applying the following transformation will result in the desired distribution.\n",
        "\n",
        "$$ X = \\mu + Z\\sigma $$\n",
        "\n",
        "Write a function called `norm_variate` that takes `mean` and `sd` as arguments and returns a normal variate from a distribution with this mean and standard deviation."
      ]
    },
    {
      "cell_type": "code",
      "metadata": {
        "id": "UWLI0or19dXq",
        "colab_type": "code",
        "colab": {}
      },
      "source": [
        "norm_variate = lambda mean, sd: Zo()*sd + mean"
      ],
      "execution_count": 33,
      "outputs": []
    },
    {
      "cell_type": "code",
      "metadata": {
        "id": "gqe66l9TJEnZ",
        "colab_type": "code",
        "colab": {
          "base_uri": "https://localhost:8080/",
          "height": 34
        },
        "outputId": "51671974-6ab8-4fe5-9328-9e63ca6483fc"
      },
      "source": [
        "norm_variate(20,2)"
      ],
      "execution_count": 34,
      "outputs": [
        {
          "output_type": "execute_result",
          "data": {
            "text/plain": [
              "20.045090588873965"
            ]
          },
          "metadata": {
            "tags": []
          },
          "execution_count": 34
        }
      ]
    },
    {
      "cell_type": "markdown",
      "metadata": {
        "id": "l7bGE9Q89dXu",
        "colab_type": "text"
      },
      "source": [
        "#### Step 4 -- Create function that generates many standard normal variates.\n",
        "\n",
        "Now use a list comprehension to create a function called `std_norm_variates` that has one argument `n` and returns `n` simulated random normal trials."
      ]
    },
    {
      "cell_type": "code",
      "metadata": {
        "id": "fo5Zq7Xa9dXv",
        "colab_type": "code",
        "colab": {}
      },
      "source": [
        "std_norm_variates = lambda n,mean,sd:[norm_variate(mean,sd) for num in range(n)]"
      ],
      "execution_count": 35,
      "outputs": []
    },
    {
      "cell_type": "code",
      "metadata": {
        "id": "Ybu-yeY4LpNX",
        "colab_type": "code",
        "colab": {
          "base_uri": "https://localhost:8080/",
          "height": 185
        },
        "outputId": "de005170-b997-4277-80b9-4876e92da15c"
      },
      "source": [
        "std_norm_variates(10,10,3)"
      ],
      "execution_count": 36,
      "outputs": [
        {
          "output_type": "execute_result",
          "data": {
            "text/plain": [
              "[13.746782134187216,\n",
              " 15.068076062903497,\n",
              " 10.387128534730417,\n",
              " 6.52428985673598,\n",
              " 11.981598018745972,\n",
              " 5.24256997463767,\n",
              " 9.801897893286139,\n",
              " 9.013372115750315,\n",
              " 14.660176606622924,\n",
              " 7.799467959522932]"
            ]
          },
          "metadata": {
            "tags": []
          },
          "execution_count": 36
        }
      ]
    }
  ]
}