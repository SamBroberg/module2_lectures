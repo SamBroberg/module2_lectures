{
  "nbformat": 4,
  "nbformat_minor": 0,
  "metadata": {
    "anaconda-cloud": {},
    "kernelspec": {
      "display_name": "Python 3",
      "language": "python",
      "name": "python3"
    },
    "language_info": {
      "codemirror_mode": {
        "name": "ipython",
        "version": 3
      },
      "file_extension": ".py",
      "mimetype": "text/x-python",
      "name": "python",
      "nbconvert_exporter": "python",
      "pygments_lexer": "ipython3",
      "version": "3.7.2"
    },
    "nbpresent": {
      "slides": {
        "537f6eb2-2283-47b1-9bc9-6c9ceccf79cb": {
          "id": "537f6eb2-2283-47b1-9bc9-6c9ceccf79cb",
          "prev": null,
          "regions": {
            "8bdbe3ed-17f2-4d1a-b1ac-5dd3c02f9a2f": {
              "attrs": {
                "height": 1,
                "width": 1,
                "x": 0,
                "y": 0
              },
              "content": {
                "cell": "85d3ea25-5fc1-40ca-afc2-09a50c7acd30",
                "part": "source"
              },
              "id": "8bdbe3ed-17f2-4d1a-b1ac-5dd3c02f9a2f"
            }
          }
        }
      },
      "themes": {}
    },
    "colab": {
      "name": "2_1_getting_started_with_sequences.ipynb",
      "provenance": [],
      "include_colab_link": true
    }
  },
  "cells": [
    {
      "cell_type": "markdown",
      "metadata": {
        "id": "view-in-github",
        "colab_type": "text"
      },
      "source": [
        "<a href=\"https://colab.research.google.com/github/SamBroberg/module2_lectures/blob/master/2_1_getting_started_with_sequences.ipynb\" target=\"_parent\"><img src=\"https://colab.research.google.com/assets/colab-badge.svg\" alt=\"Open In Colab\"/></a>"
      ]
    },
    {
      "cell_type": "markdown",
      "metadata": {
        "nbpresent": {
          "id": "85d3ea25-5fc1-40ca-afc2-09a50c7acd30"
        },
        "id": "uflhFi5hvhVF",
        "colab_type": "text"
      },
      "source": [
        "# Getting Started with Sequential Data in Python \n",
        "\n",
        "## Objectives\n",
        "\n",
        "1. Understand operations on sequences\n",
        "2. Access data from a sequences using an index\n",
        "3. Access a portion of a sequence using slicing"
      ]
    },
    {
      "cell_type": "markdown",
      "metadata": {
        "nbpresent": {
          "id": "5d68486b-170c-4af6-9e81-502a4aa8e103"
        },
        "id": "bpbsqNl9vhVH",
        "colab_type": "text"
      },
      "source": [
        "## Three data types\n",
        "\n",
        "* List\n",
        "* String\n",
        "* Tuple"
      ]
    },
    {
      "cell_type": "code",
      "metadata": {
        "nbpresent": {
          "id": "9fa0ccff-0e47-4836-93a7-be2823b34d88"
        },
        "id": "EPQiPhMTvhVJ",
        "colab_type": "code",
        "colab": {
          "base_uri": "https://localhost:8080/",
          "height": 34
        },
        "outputId": "ebb0022b-9f41-42e7-e460-6105d5755a89"
      },
      "source": [
        "L = [1,2,3]\n",
        "type(L)"
      ],
      "execution_count": 1,
      "outputs": [
        {
          "output_type": "execute_result",
          "data": {
            "text/plain": [
              "list"
            ]
          },
          "metadata": {
            "tags": []
          },
          "execution_count": 1
        }
      ]
    },
    {
      "cell_type": "code",
      "metadata": {
        "nbpresent": {
          "id": "8c47a074-41c2-45d7-8153-ed191ba2ea69"
        },
        "id": "Xi1U6wBYvhVP",
        "colab_type": "code",
        "colab": {
          "base_uri": "https://localhost:8080/",
          "height": 34
        },
        "outputId": "db9acf7b-4c2d-4ff3-9426-fcefea693f76"
      },
      "source": [
        "s = \"Bob\"\n",
        "type(s)"
      ],
      "execution_count": 2,
      "outputs": [
        {
          "output_type": "execute_result",
          "data": {
            "text/plain": [
              "str"
            ]
          },
          "metadata": {
            "tags": []
          },
          "execution_count": 2
        }
      ]
    },
    {
      "cell_type": "code",
      "metadata": {
        "nbpresent": {
          "id": "829326d3-62aa-466b-9e8c-89b5488fa040"
        },
        "id": "cb1otz0FvhVT",
        "colab_type": "code",
        "colab": {
          "base_uri": "https://localhost:8080/",
          "height": 34
        },
        "outputId": "def297db-1471-4d72-a79a-5fdbc0c40e7f"
      },
      "source": [
        "tup = (1,2,3)\n",
        "type(tup)"
      ],
      "execution_count": 3,
      "outputs": [
        {
          "output_type": "execute_result",
          "data": {
            "text/plain": [
              "tuple"
            ]
          },
          "metadata": {
            "tags": []
          },
          "execution_count": 3
        }
      ]
    },
    {
      "cell_type": "markdown",
      "metadata": {
        "nbpresent": {
          "id": "f72c9dee-71c1-4dbb-af8c-09a1aaacc026"
        },
        "id": "umf6nC3TvhVX",
        "colab_type": "text"
      },
      "source": [
        "## More about indexing\n",
        "\n",
        "<img src=\"https://github.com/yardsale8/STAT489/blob/master/img/string_index.png?raw=true\" width=\"500\">"
      ]
    },
    {
      "cell_type": "code",
      "metadata": {
        "nbpresent": {
          "id": "6124e225-f1e5-4579-8112-6be4bc9cc02b"
        },
        "id": "vux_hj0RvhVZ",
        "colab_type": "code",
        "colab": {
          "base_uri": "https://localhost:8080/",
          "height": 35
        },
        "outputId": "056b370e-5423-4e73-f39c-b62dbbb1c4e5"
      },
      "source": [
        "s = \"Hello Bob\"\n",
        "s[3]"
      ],
      "execution_count": 4,
      "outputs": [
        {
          "output_type": "execute_result",
          "data": {
            "application/vnd.google.colaboratory.intrinsic+json": {
              "type": "string"
            },
            "text/plain": [
              "'l'"
            ]
          },
          "metadata": {
            "tags": []
          },
          "execution_count": 4
        }
      ]
    },
    {
      "cell_type": "code",
      "metadata": {
        "nbpresent": {
          "id": "b99289df-afbb-4914-928b-385a9c6f696b"
        },
        "id": "o-4_u6YMvhVe",
        "colab_type": "code",
        "colab": {
          "base_uri": "https://localhost:8080/",
          "height": 35
        },
        "outputId": "a04eb833-64f0-4f95-d439-8b0ae44d944e"
      },
      "source": [
        "s[-2]"
      ],
      "execution_count": 5,
      "outputs": [
        {
          "output_type": "execute_result",
          "data": {
            "application/vnd.google.colaboratory.intrinsic+json": {
              "type": "string"
            },
            "text/plain": [
              "'o'"
            ]
          },
          "metadata": {
            "tags": []
          },
          "execution_count": 5
        }
      ]
    },
    {
      "cell_type": "markdown",
      "metadata": {
        "nbpresent": {
          "id": "a587853a-2300-4e6a-b904-f3acefce323e"
        },
        "id": "MO7byV9UvhVj",
        "colab_type": "text"
      },
      "source": [
        "<img src=\"https://github.com/yardsale8/STAT489/blob/master/img/list_index.png?raw=true\" width = \"400\">"
      ]
    },
    {
      "cell_type": "code",
      "metadata": {
        "nbpresent": {
          "id": "526df420-a3ea-4655-beb1-d63539acccfd"
        },
        "id": "F0At4tdqvhVk",
        "colab_type": "code",
        "colab": {
          "base_uri": "https://localhost:8080/",
          "height": 35
        },
        "outputId": "0994e039-320b-49b0-a466-7d6bf8c13093"
      },
      "source": [
        "L = ['A', 'B', 'C', 'D', 'F']\n",
        "L[0]"
      ],
      "execution_count": 6,
      "outputs": [
        {
          "output_type": "execute_result",
          "data": {
            "application/vnd.google.colaboratory.intrinsic+json": {
              "type": "string"
            },
            "text/plain": [
              "'A'"
            ]
          },
          "metadata": {
            "tags": []
          },
          "execution_count": 6
        }
      ]
    },
    {
      "cell_type": "code",
      "metadata": {
        "nbpresent": {
          "id": "2fa61f4c-7833-4b56-b0aa-3137266e44f1"
        },
        "id": "Hs1_bajuvhVp",
        "colab_type": "code",
        "colab": {
          "base_uri": "https://localhost:8080/",
          "height": 35
        },
        "outputId": "cf6be3b2-47de-497a-a659-7152d00853f1"
      },
      "source": [
        "L[-4]\n"
      ],
      "execution_count": 7,
      "outputs": [
        {
          "output_type": "execute_result",
          "data": {
            "application/vnd.google.colaboratory.intrinsic+json": {
              "type": "string"
            },
            "text/plain": [
              "'B'"
            ]
          },
          "metadata": {
            "tags": []
          },
          "execution_count": 7
        }
      ]
    },
    {
      "cell_type": "markdown",
      "metadata": {
        "nbpresent": {
          "id": "8a26922f-c791-4f46-b470-99bb0b55470e"
        },
        "id": "5naefi2zvhVw",
        "colab_type": "text"
      },
      "source": [
        "## Slicing\n",
        "<img src=\"https://github.com/yardsale8/STAT489/blob/master/img/string_index.png?raw=true\" width=\"500\">"
      ]
    },
    {
      "cell_type": "code",
      "metadata": {
        "nbpresent": {
          "id": "6f3a4be6-97bd-4b2b-b92b-66fd425a2d5c"
        },
        "id": "Vp6lDyDwvhVx",
        "colab_type": "code",
        "colab": {
          "base_uri": "https://localhost:8080/",
          "height": 35
        },
        "outputId": "e8b6d6fd-c295-48f1-b7fe-7876961be54b"
      },
      "source": [
        "s[1:7]"
      ],
      "execution_count": 8,
      "outputs": [
        {
          "output_type": "execute_result",
          "data": {
            "application/vnd.google.colaboratory.intrinsic+json": {
              "type": "string"
            },
            "text/plain": [
              "'ello B'"
            ]
          },
          "metadata": {
            "tags": []
          },
          "execution_count": 8
        }
      ]
    },
    {
      "cell_type": "code",
      "metadata": {
        "nbpresent": {
          "id": "79e4173e-7e0a-4ea0-952d-2860c0a34b3a"
        },
        "id": "nTogDXlNvhV1",
        "colab_type": "code",
        "colab": {
          "base_uri": "https://localhost:8080/",
          "height": 35
        },
        "outputId": "55c59f6e-6093-4727-b036-c48193d9114f"
      },
      "source": [
        "s[:4]"
      ],
      "execution_count": 9,
      "outputs": [
        {
          "output_type": "execute_result",
          "data": {
            "application/vnd.google.colaboratory.intrinsic+json": {
              "type": "string"
            },
            "text/plain": [
              "'Hell'"
            ]
          },
          "metadata": {
            "tags": []
          },
          "execution_count": 9
        }
      ]
    },
    {
      "cell_type": "code",
      "metadata": {
        "nbpresent": {
          "id": "b75ee088-04a3-4a42-b3b2-26d9951d1143"
        },
        "id": "_97ZvLegvhV5",
        "colab_type": "code",
        "colab": {
          "base_uri": "https://localhost:8080/",
          "height": 35
        },
        "outputId": "a2a26a11-3990-4653-8535-b211f19e22b1"
      },
      "source": [
        "s[2:]"
      ],
      "execution_count": 10,
      "outputs": [
        {
          "output_type": "execute_result",
          "data": {
            "application/vnd.google.colaboratory.intrinsic+json": {
              "type": "string"
            },
            "text/plain": [
              "'llo Bob'"
            ]
          },
          "metadata": {
            "tags": []
          },
          "execution_count": 10
        }
      ]
    },
    {
      "cell_type": "code",
      "metadata": {
        "nbpresent": {
          "id": "2244f080-2f6d-40a5-b9ad-2e1a0f8a2542"
        },
        "id": "t0xrPlIavhV-",
        "colab_type": "code",
        "colab": {
          "base_uri": "https://localhost:8080/",
          "height": 35
        },
        "outputId": "bea1fdf1-c39d-4aec-bda0-e4fe0abf021d"
      },
      "source": [
        "s[:]"
      ],
      "execution_count": 11,
      "outputs": [
        {
          "output_type": "execute_result",
          "data": {
            "application/vnd.google.colaboratory.intrinsic+json": {
              "type": "string"
            },
            "text/plain": [
              "'Hello Bob'"
            ]
          },
          "metadata": {
            "tags": []
          },
          "execution_count": 11
        }
      ]
    },
    {
      "cell_type": "code",
      "metadata": {
        "nbpresent": {
          "id": "38563f2f-ef48-4da2-aa8c-2560756f6d2c"
        },
        "id": "rUHBd5e4vhWC",
        "colab_type": "code",
        "colab": {
          "base_uri": "https://localhost:8080/",
          "height": 35
        },
        "outputId": "b9dbe7f7-fdb6-489a-f0da-ca2d83dae367"
      },
      "source": [
        "s[1::2]"
      ],
      "execution_count": 12,
      "outputs": [
        {
          "output_type": "execute_result",
          "data": {
            "application/vnd.google.colaboratory.intrinsic+json": {
              "type": "string"
            },
            "text/plain": [
              "'el o'"
            ]
          },
          "metadata": {
            "tags": []
          },
          "execution_count": 12
        }
      ]
    },
    {
      "cell_type": "markdown",
      "metadata": {
        "nbpresent": {
          "id": "ebb436ea-df24-43b9-8815-75f5b3a607fb"
        },
        "id": "d5yqbBPIvhWF",
        "colab_type": "text"
      },
      "source": [
        "## Slicing works for all sequences"
      ]
    },
    {
      "cell_type": "code",
      "metadata": {
        "nbpresent": {
          "id": "90399bcb-86eb-4598-af31-08f8203fd418"
        },
        "id": "DhcrOaEJvhWG",
        "colab_type": "code",
        "colab": {
          "base_uri": "https://localhost:8080/",
          "height": 34
        },
        "outputId": "57faa3dd-fb93-4b53-d112-a1a2ba50254f"
      },
      "source": [
        "L[1:7]"
      ],
      "execution_count": 13,
      "outputs": [
        {
          "output_type": "execute_result",
          "data": {
            "text/plain": [
              "['B', 'C', 'D', 'F']"
            ]
          },
          "metadata": {
            "tags": []
          },
          "execution_count": 13
        }
      ]
    },
    {
      "cell_type": "code",
      "metadata": {
        "nbpresent": {
          "id": "2809f7c9-7af3-4c0d-be3f-2c67486d1018"
        },
        "id": "URWZiDxEvhWJ",
        "colab_type": "code",
        "colab": {
          "base_uri": "https://localhost:8080/",
          "height": 34
        },
        "outputId": "c423a218-b952-4f99-e08c-341fa03a5f5e"
      },
      "source": [
        "tup[1:]"
      ],
      "execution_count": 14,
      "outputs": [
        {
          "output_type": "execute_result",
          "data": {
            "text/plain": [
              "(2, 3)"
            ]
          },
          "metadata": {
            "tags": []
          },
          "execution_count": 14
        }
      ]
    },
    {
      "cell_type": "markdown",
      "metadata": {
        "nbpresent": {
          "id": "3ae114c1-0e42-417a-b54e-1ca18044c59c"
        },
        "id": "YYNnWV2cvhWP",
        "colab_type": "text"
      },
      "source": [
        "## Boolean expressions"
      ]
    },
    {
      "cell_type": "code",
      "metadata": {
        "nbpresent": {
          "id": "32ce4183-e86a-413e-aaaf-b9c243df8577"
        },
        "id": "YUCxRwLUvhWQ",
        "colab_type": "code",
        "colab": {
          "base_uri": "https://localhost:8080/",
          "height": 34
        },
        "outputId": "583262c0-8688-405f-aadb-3b8b757ff571"
      },
      "source": [
        "1 in [1,2,3]"
      ],
      "execution_count": 15,
      "outputs": [
        {
          "output_type": "execute_result",
          "data": {
            "text/plain": [
              "True"
            ]
          },
          "metadata": {
            "tags": []
          },
          "execution_count": 15
        }
      ]
    },
    {
      "cell_type": "code",
      "metadata": {
        "nbpresent": {
          "id": "5a839225-b9b2-4240-8bae-d1496ce6a932"
        },
        "id": "Sz80-5_dvhWT",
        "colab_type": "code",
        "colab": {
          "base_uri": "https://localhost:8080/",
          "height": 34
        },
        "outputId": "4ae0e341-cf0b-4b8a-a4fd-46b27f986686"
      },
      "source": [
        "5 in [1,2,3]"
      ],
      "execution_count": 16,
      "outputs": [
        {
          "output_type": "execute_result",
          "data": {
            "text/plain": [
              "False"
            ]
          },
          "metadata": {
            "tags": []
          },
          "execution_count": 16
        }
      ]
    },
    {
      "cell_type": "code",
      "metadata": {
        "nbpresent": {
          "id": "4fe11454-a482-466e-9fa5-ca19d9600aed"
        },
        "id": "h-DCh7BVvhWX",
        "colab_type": "code",
        "colab": {
          "base_uri": "https://localhost:8080/",
          "height": 34
        },
        "outputId": "7db71192-288a-4dfe-f5b2-19728e04745e"
      },
      "source": [
        "\"a\" not in \"Todd\""
      ],
      "execution_count": 17,
      "outputs": [
        {
          "output_type": "execute_result",
          "data": {
            "text/plain": [
              "True"
            ]
          },
          "metadata": {
            "tags": []
          },
          "execution_count": 17
        }
      ]
    },
    {
      "cell_type": "code",
      "metadata": {
        "nbpresent": {
          "id": "f8a45d7f-96aa-4921-b79d-0766c4c2455b"
        },
        "id": "M1TQ_tnevhWb",
        "colab_type": "code",
        "colab": {
          "base_uri": "https://localhost:8080/",
          "height": 34
        },
        "outputId": "ac022644-396b-476d-94db-c8d31b5a9c83"
      },
      "source": [
        "\"a\" in [\"a\", \"b\", \"c\"]"
      ],
      "execution_count": 18,
      "outputs": [
        {
          "output_type": "execute_result",
          "data": {
            "text/plain": [
              "True"
            ]
          },
          "metadata": {
            "tags": []
          },
          "execution_count": 18
        }
      ]
    },
    {
      "cell_type": "code",
      "metadata": {
        "nbpresent": {
          "id": "a614c579-fd34-45ce-8c2a-8b25e1e85671"
        },
        "id": "nr9QxE9FvhWf",
        "colab_type": "code",
        "colab": {
          "base_uri": "https://localhost:8080/",
          "height": 34
        },
        "outputId": "400db16b-b445-4525-a0b6-6ed1ad3040b8"
      },
      "source": [
        "\"a\" in [\"abc\", \"def\"]"
      ],
      "execution_count": 19,
      "outputs": [
        {
          "output_type": "execute_result",
          "data": {
            "text/plain": [
              "False"
            ]
          },
          "metadata": {
            "tags": []
          },
          "execution_count": 19
        }
      ]
    },
    {
      "cell_type": "code",
      "metadata": {
        "nbpresent": {
          "id": "1654f260-ee30-48ae-ab1a-7aa665103616"
        },
        "id": "qDAs9Xz4vhWj",
        "colab_type": "code",
        "colab": {
          "base_uri": "https://localhost:8080/",
          "height": 34
        },
        "outputId": "1df6ee63-ee90-42d6-e7b1-da7911bb7498"
      },
      "source": [
        "\"todd\" == \"Todd\""
      ],
      "execution_count": 20,
      "outputs": [
        {
          "output_type": "execute_result",
          "data": {
            "text/plain": [
              "False"
            ]
          },
          "metadata": {
            "tags": []
          },
          "execution_count": 20
        }
      ]
    },
    {
      "cell_type": "markdown",
      "metadata": {
        "nbpresent": {
          "id": "573bf141-408a-4a01-a6df-8e411f6bb6f2"
        },
        "id": "emv5ZRzIvhWn",
        "colab_type": "text"
      },
      "source": [
        "## Making a range of numbers\n",
        "\n",
        "* `range` returns a sequence of numbers\n",
        "* Lazy, converted to a list\n",
        "    * for small ranges"
      ]
    },
    {
      "cell_type": "code",
      "metadata": {
        "nbpresent": {
          "id": "d2f0a0d2-9f0c-4c8d-96e5-888549baa5d3"
        },
        "id": "-5IcBR7mvhWo",
        "colab_type": "code",
        "colab": {
          "base_uri": "https://localhost:8080/",
          "height": 34
        },
        "outputId": "e7df6d83-1135-4e5b-e254-8ef4f39f9e32"
      },
      "source": [
        "range(5)"
      ],
      "execution_count": 21,
      "outputs": [
        {
          "output_type": "execute_result",
          "data": {
            "text/plain": [
              "range(0, 5)"
            ]
          },
          "metadata": {
            "tags": []
          },
          "execution_count": 21
        }
      ]
    },
    {
      "cell_type": "code",
      "metadata": {
        "nbpresent": {
          "id": "c057388e-3cc4-45a8-9bbc-538c1d38e6cf"
        },
        "id": "h-vZwXLAvhWs",
        "colab_type": "code",
        "colab": {
          "base_uri": "https://localhost:8080/",
          "height": 34
        },
        "outputId": "74c77c1c-0e92-4a28-dc80-6a0bf91b7bf1"
      },
      "source": [
        "list(range(20))"
      ],
      "execution_count": 31,
      "outputs": [
        {
          "output_type": "execute_result",
          "data": {
            "text/plain": [
              "[0, 1, 2, 3, 4, 5, 6, 7, 8, 9, 10, 11, 12, 13, 14, 15, 16, 17, 18, 19]"
            ]
          },
          "metadata": {
            "tags": []
          },
          "execution_count": 31
        }
      ]
    },
    {
      "cell_type": "markdown",
      "metadata": {
        "nbpresent": {
          "id": "a06b52c5-7cd8-4944-babf-c5089452dd48"
        },
        "id": "-TcibnD9vhWv",
        "colab_type": "text"
      },
      "source": [
        "## One argument\n",
        "\n",
        "* Starts at 0\n",
        "    * aligned with Python indexes\n",
        "* Up to, but not including, argument\n",
        "    * `range(n)` returns `n` elements\n",
        "    * Useful for repetition"
      ]
    },
    {
      "cell_type": "code",
      "metadata": {
        "nbpresent": {
          "id": "42aab43f-a332-40c6-8eda-30dc154716eb"
        },
        "id": "mSCKIyQ4vhWw",
        "colab_type": "code",
        "colab": {
          "base_uri": "https://localhost:8080/",
          "height": 34
        },
        "outputId": "c98737c8-bbe0-4177-925c-988b1d3f9a8e"
      },
      "source": [
        "list(range(10))"
      ],
      "execution_count": 32,
      "outputs": [
        {
          "output_type": "execute_result",
          "data": {
            "text/plain": [
              "[0, 1, 2, 3, 4, 5, 6, 7, 8, 9]"
            ]
          },
          "metadata": {
            "tags": []
          },
          "execution_count": 32
        }
      ]
    },
    {
      "cell_type": "markdown",
      "metadata": {
        "nbpresent": {
          "id": "3d06082c-c9b4-433c-b00f-716b6966d855"
        },
        "id": "nvP-FkDgvhW1",
        "colab_type": "text"
      },
      "source": [
        "## Two Arguments\n",
        "\n",
        "* Starts at first argument\n",
        "* Goes up to, but not including, second argument\n",
        "    * Like slicing"
      ]
    },
    {
      "cell_type": "code",
      "metadata": {
        "nbpresent": {
          "id": "39c1a895-261d-4d77-8cf9-d0036be4ac78"
        },
        "id": "QANQ0x9xvhW2",
        "colab_type": "code",
        "colab": {
          "base_uri": "https://localhost:8080/",
          "height": 34
        },
        "outputId": "d58952c9-caad-4b6b-c9f3-91b8d05ccb58"
      },
      "source": [
        "list(range(2, 10))"
      ],
      "execution_count": 33,
      "outputs": [
        {
          "output_type": "execute_result",
          "data": {
            "text/plain": [
              "[2, 3, 4, 5, 6, 7, 8, 9]"
            ]
          },
          "metadata": {
            "tags": []
          },
          "execution_count": 33
        }
      ]
    },
    {
      "cell_type": "markdown",
      "metadata": {
        "nbpresent": {
          "id": "fbfc6859-e7c7-49fc-9853-991923e821ae"
        },
        "id": "hAwgXr9xvhW6",
        "colab_type": "text"
      },
      "source": [
        "## Three Arguments\n",
        "\n",
        "* First two as before\n",
        "* Third argument is step size"
      ]
    },
    {
      "cell_type": "code",
      "metadata": {
        "nbpresent": {
          "id": "4088789c-ae95-48d5-b3f8-bccb54304330"
        },
        "id": "bjB4r_5FvhW7",
        "colab_type": "code",
        "colab": {
          "base_uri": "https://localhost:8080/",
          "height": 34
        },
        "outputId": "0c12c2e5-a7c0-4d5f-e47f-1621e47565f7"
      },
      "source": [
        "list(range(1,5,2))"
      ],
      "execution_count": 34,
      "outputs": [
        {
          "output_type": "execute_result",
          "data": {
            "text/plain": [
              "[1, 3]"
            ]
          },
          "metadata": {
            "tags": []
          },
          "execution_count": 34
        }
      ]
    },
    {
      "cell_type": "code",
      "metadata": {
        "nbpresent": {
          "id": "af1af556-6ff7-4a4c-a729-65ac1a0c57e7"
        },
        "id": "nBNzCD9jvhXA",
        "colab_type": "code",
        "colab": {
          "base_uri": "https://localhost:8080/",
          "height": 34
        },
        "outputId": "d46b4cf0-6aa4-464b-a64d-95ffdb9cf9cd"
      },
      "source": [
        "list(range(10,2,-1))"
      ],
      "execution_count": 36,
      "outputs": [
        {
          "output_type": "execute_result",
          "data": {
            "text/plain": [
              "[10, 9, 8, 7, 6, 5, 4, 3]"
            ]
          },
          "metadata": {
            "tags": []
          },
          "execution_count": 36
        }
      ]
    },
    {
      "cell_type": "markdown",
      "metadata": {
        "nbpresent": {
          "id": "971c74bb-e97d-4f62-b8e1-dd095f971d82"
        },
        "id": "M6NF_pnGvhXE",
        "colab_type": "text"
      },
      "source": [
        "## Other list processing functions"
      ]
    },
    {
      "cell_type": "markdown",
      "metadata": {
        "nbpresent": {
          "id": "e5da4d20-3fe0-4a80-ac12-977067145539"
        },
        "id": "cY43kKEdvhXF",
        "colab_type": "text"
      },
      "source": [
        "### sum and max"
      ]
    },
    {
      "cell_type": "code",
      "metadata": {
        "nbpresent": {
          "id": "83de843e-c421-43aa-9759-6a9832e8bb87"
        },
        "id": "BiRSLtnevhXG",
        "colab_type": "code",
        "colab": {
          "base_uri": "https://localhost:8080/",
          "height": 34
        },
        "outputId": "3966d919-a6c3-4564-8ed0-aa938e3b9748"
      },
      "source": [
        "sum([1,2,3])"
      ],
      "execution_count": 37,
      "outputs": [
        {
          "output_type": "execute_result",
          "data": {
            "text/plain": [
              "6"
            ]
          },
          "metadata": {
            "tags": []
          },
          "execution_count": 37
        }
      ]
    },
    {
      "cell_type": "code",
      "metadata": {
        "nbpresent": {
          "id": "06f88760-7610-4211-af4c-1fb623ff9a2c"
        },
        "id": "z5k5lB3PvhXK",
        "colab_type": "code",
        "colab": {
          "base_uri": "https://localhost:8080/",
          "height": 34
        },
        "outputId": "414dd1ac-abd8-4573-a7fe-4287a97f20d4"
      },
      "source": [
        "max([1,2,3])"
      ],
      "execution_count": 38,
      "outputs": [
        {
          "output_type": "execute_result",
          "data": {
            "text/plain": [
              "3"
            ]
          },
          "metadata": {
            "tags": []
          },
          "execution_count": 38
        }
      ]
    },
    {
      "cell_type": "markdown",
      "metadata": {
        "nbpresent": {
          "id": "73f7b36b-675a-45e8-a0a7-5777aa4b5b9f"
        },
        "id": "qvMkPYxSvhXO",
        "colab_type": "text"
      },
      "source": [
        "## all and any"
      ]
    },
    {
      "cell_type": "code",
      "metadata": {
        "nbpresent": {
          "id": "a1f1ce29-a633-440a-aebe-436a72092a1f"
        },
        "id": "VTISUyOgvhXO",
        "colab_type": "code",
        "colab": {
          "base_uri": "https://localhost:8080/",
          "height": 34
        },
        "outputId": "b277dac6-ebba-4f77-8680-b5d5ac803eae"
      },
      "source": [
        "all([True, False, False]) # True if all entries are True"
      ],
      "execution_count": 39,
      "outputs": [
        {
          "output_type": "execute_result",
          "data": {
            "text/plain": [
              "False"
            ]
          },
          "metadata": {
            "tags": []
          },
          "execution_count": 39
        }
      ]
    },
    {
      "cell_type": "code",
      "metadata": {
        "nbpresent": {
          "id": "a8799272-513e-4425-89fd-da3440072a7f"
        },
        "id": "zuAVRLSUvhXR",
        "colab_type": "code",
        "colab": {
          "base_uri": "https://localhost:8080/",
          "height": 34
        },
        "outputId": "46f57303-3840-4fb8-dd92-8ac3bc416064"
      },
      "source": [
        "any([True, False, False]) # True if any entries are True"
      ],
      "execution_count": 41,
      "outputs": [
        {
          "output_type": "execute_result",
          "data": {
            "text/plain": [
              "True"
            ]
          },
          "metadata": {
            "tags": []
          },
          "execution_count": 41
        }
      ]
    },
    {
      "cell_type": "code",
      "metadata": {
        "id": "OKS9s_7t0K4M",
        "colab_type": "code",
        "colab": {
          "base_uri": "https://localhost:8080/",
          "height": 34
        },
        "outputId": "4f100781-5636-4da6-8e02-cab70db36a5e"
      },
      "source": [
        "any([0,1,2])"
      ],
      "execution_count": 43,
      "outputs": [
        {
          "output_type": "execute_result",
          "data": {
            "text/plain": [
              "True"
            ]
          },
          "metadata": {
            "tags": []
          },
          "execution_count": 43
        }
      ]
    },
    {
      "cell_type": "code",
      "metadata": {
        "id": "12e2bQDs0sct",
        "colab_type": "code",
        "colab": {
          "base_uri": "https://localhost:8080/",
          "height": 34
        },
        "outputId": "40d3ae11-1a4a-409d-d444-a46f5dda6af3"
      },
      "source": [
        "list(map(bool,[0,1,2]))"
      ],
      "execution_count": 44,
      "outputs": [
        {
          "output_type": "execute_result",
          "data": {
            "text/plain": [
              "[False, True, True]"
            ]
          },
          "metadata": {
            "tags": []
          },
          "execution_count": 44
        }
      ]
    },
    {
      "cell_type": "markdown",
      "metadata": {
        "nbpresent": {
          "id": "11458b39-3b9e-4564-be5f-1bf53168a5b9"
        },
        "id": "hsCe-GMlvhXU",
        "colab_type": "text"
      },
      "source": [
        "### `sorted` - making a new sorted sequence"
      ]
    },
    {
      "cell_type": "code",
      "metadata": {
        "nbpresent": {
          "id": "b7b6311e-9c8a-484f-8dcf-305bfcf7c99d"
        },
        "id": "1oLOFbczvhXV",
        "colab_type": "code",
        "colab": {
          "base_uri": "https://localhost:8080/",
          "height": 34
        },
        "outputId": "bcb6935d-a3ea-4dc5-8aed-94428e04d4df"
      },
      "source": [
        "sorted([1,3,2,5,4]) # returns a new sorted list"
      ],
      "execution_count": 45,
      "outputs": [
        {
          "output_type": "execute_result",
          "data": {
            "text/plain": [
              "[1, 2, 3, 4, 5]"
            ]
          },
          "metadata": {
            "tags": []
          },
          "execution_count": 45
        }
      ]
    },
    {
      "cell_type": "markdown",
      "metadata": {
        "nbpresent": {
          "id": "79bec505-58a0-45bb-8857-617ea2dfd2bf"
        },
        "id": "13yjM61TvhXa",
        "colab_type": "text"
      },
      "source": [
        "## Combining lists with `zip`"
      ]
    },
    {
      "cell_type": "code",
      "metadata": {
        "nbpresent": {
          "id": "1c70df56-28a7-4fee-ba13-f025be816c08"
        },
        "id": "eBHBLMaOvhXb",
        "colab_type": "code",
        "colab": {
          "base_uri": "https://localhost:8080/",
          "height": 34
        },
        "outputId": "61848296-b793-4553-e68f-7d296638156b"
      },
      "source": [
        "zip([1,2,3], [\"a\", \"b\", \"c\"]) # zip is lazy"
      ],
      "execution_count": 46,
      "outputs": [
        {
          "output_type": "execute_result",
          "data": {
            "text/plain": [
              "<zip at 0x7f77a20d1e08>"
            ]
          },
          "metadata": {
            "tags": []
          },
          "execution_count": 46
        }
      ]
    },
    {
      "cell_type": "code",
      "metadata": {
        "nbpresent": {
          "id": "0de7acea-bf29-4994-a89d-21f938825c7e"
        },
        "id": "VhzUSN7LvhXe",
        "colab_type": "code",
        "colab": {
          "base_uri": "https://localhost:8080/",
          "height": 34
        },
        "outputId": "ade6606e-0ea9-4053-e9f6-33d2056b5364"
      },
      "source": [
        "list(zip([1,2,3], [\"a\", \"b\", \"c\"])) # Use list to complete"
      ],
      "execution_count": 47,
      "outputs": [
        {
          "output_type": "execute_result",
          "data": {
            "text/plain": [
              "[(1, 'a'), (2, 'b'), (3, 'c')]"
            ]
          },
          "metadata": {
            "tags": []
          },
          "execution_count": 47
        }
      ]
    },
    {
      "cell_type": "markdown",
      "metadata": {
        "nbpresent": {
          "id": "ccaf8ff7-9f76-4ab8-851c-8630a3bb7701"
        },
        "id": "OIx34pCsvhXi",
        "colab_type": "text"
      },
      "source": [
        "### <font color='red'> Exercise 1 </font>\n",
        "\n",
        "Write a function named `largest_three` that will return the three largest elements of a list.\n",
        "\n",
        "**Example** largest_three(range(5)) == [4, 3, 2]\n",
        "\n",
        "**Hint** `sorted` and slicing should do the trick!"
      ]
    },
    {
      "cell_type": "code",
      "metadata": {
        "nbpresent": {
          "id": "3da3a1e9-e1c3-4dfc-be8d-e9f698bf5ca0"
        },
        "id": "qbaxrTzzvhXj",
        "colab_type": "code",
        "colab": {
          "base_uri": "https://localhost:8080/",
          "height": 34
        },
        "outputId": "fcb174a4-72e6-43fe-a2b6-ef3e82391520"
      },
      "source": [
        "largest_three = lambda a: sorted(range(a),reverse=True)[0:3]\n",
        "largest_three(8)"
      ],
      "execution_count": 56,
      "outputs": [
        {
          "output_type": "execute_result",
          "data": {
            "text/plain": [
              "[7, 6, 5]"
            ]
          },
          "metadata": {
            "tags": []
          },
          "execution_count": 56
        }
      ]
    },
    {
      "cell_type": "code",
      "metadata": {
        "id": "QCbvfT6p3D6I",
        "colab_type": "code",
        "colab": {
          "base_uri": "https://localhost:8080/",
          "height": 34
        },
        "outputId": "12b7ac6b-a43d-4b7e-e960-99e2cc9eacc6"
      },
      "source": [
        "largest_three(6)"
      ],
      "execution_count": 57,
      "outputs": [
        {
          "output_type": "execute_result",
          "data": {
            "text/plain": [
              "[5, 4, 3]"
            ]
          },
          "metadata": {
            "tags": []
          },
          "execution_count": 57
        }
      ]
    },
    {
      "cell_type": "code",
      "metadata": {
        "id": "16rFKlDi3Nx2",
        "colab_type": "code",
        "colab": {
          "base_uri": "https://localhost:8080/",
          "height": 34
        },
        "outputId": "4e0396e9-ee84-4f33-e2d4-02060503e7c2"
      },
      "source": [
        "largest_three(10)"
      ],
      "execution_count": 58,
      "outputs": [
        {
          "output_type": "execute_result",
          "data": {
            "text/plain": [
              "[9, 8, 7]"
            ]
          },
          "metadata": {
            "tags": []
          },
          "execution_count": 58
        }
      ]
    },
    {
      "cell_type": "markdown",
      "metadata": {
        "nbpresent": {
          "id": "4dde7659-919e-4d17-9f8d-ecdb41645a22"
        },
        "id": "JZ9os0iIvhXm",
        "colab_type": "text"
      },
      "source": [
        "### <font color=\"red\"> Exercise 2</font>\n",
        "\n",
        "Create the following functions.\n",
        "\n",
        "* Write a function named `median_odd` that will compute the median of an odd-length list.\n",
        "    * You need to sort and get the middle value using indexing."
      ]
    },
    {
      "cell_type": "code",
      "metadata": {
        "id": "aaUM2jfjvhXn",
        "colab_type": "code",
        "colab": {
          "base_uri": "https://localhost:8080/",
          "height": 34
        },
        "outputId": "bfd85086-c3d8-498a-ce6b-f1eeb7dd842b"
      },
      "source": [
        "median_odd1 = lambda L: sorted(list(range(L)))[int(len(range(L))/2+1):int(len(range(L))/2+2)]\n",
        "median_odd1(9)"
      ],
      "execution_count": 74,
      "outputs": [
        {
          "output_type": "execute_result",
          "data": {
            "text/plain": [
              "[5]"
            ]
          },
          "metadata": {
            "tags": []
          },
          "execution_count": 74
        }
      ]
    },
    {
      "cell_type": "code",
      "metadata": {
        "id": "epVU3T1T6cpq",
        "colab_type": "code",
        "colab": {
          "base_uri": "https://localhost:8080/",
          "height": 34
        },
        "outputId": "416eb82e-f5ea-4dd0-d45b-7c4ff3c24861"
      },
      "source": [
        "median_odd = lambda L: sorted(L)[int(len(L)/2):int(len(L)/2+1)]\n",
        "median_odd([1,2,3,4,5])\n",
        "median_odd([1,3,5,2,4,6,7])\n",
        "median_odd([1,2,3])\n",
        "median_odd([1,3,2,4,5])\n",
        "median_odd([1])"
      ],
      "execution_count": 87,
      "outputs": [
        {
          "output_type": "execute_result",
          "data": {
            "text/plain": [
              "[1]"
            ]
          },
          "metadata": {
            "tags": []
          },
          "execution_count": 87
        }
      ]
    },
    {
      "cell_type": "code",
      "metadata": {
        "id": "le8UHbgw5GFO",
        "colab_type": "code",
        "colab": {
          "base_uri": "https://localhost:8080/",
          "height": 34
        },
        "outputId": "eb846829-3916-4047-a7e4-8187be0e7ae3"
      },
      "source": [
        "int(len(range(9))/2+1)"
      ],
      "execution_count": 68,
      "outputs": [
        {
          "output_type": "execute_result",
          "data": {
            "text/plain": [
              "5"
            ]
          },
          "metadata": {
            "tags": []
          },
          "execution_count": 68
        }
      ]
    },
    {
      "cell_type": "code",
      "metadata": {
        "nbpresent": {
          "id": "0198e826-d5ea-414c-ae04-995b0d4ba170"
        },
        "id": "bIZn-LqKvhXp",
        "colab_type": "code",
        "colab": {}
      },
      "source": [
        "# You need to pass these tests\n",
        "def test_median_odd():\n",
        "    assert median_odd([1]) == [1]  # edge case\n",
        "    assert median_odd([1,2,3]) == [2] # should work on sorted list\n",
        "    assert median_odd([1,3,2,4,5]) == [3] # needs to sort first\n",
        "test_median_odd()"
      ],
      "execution_count": 88,
      "outputs": []
    },
    {
      "cell_type": "markdown",
      "metadata": {
        "nbpresent": {
          "id": "4dde7659-919e-4d17-9f8d-ecdb41645a22"
        },
        "id": "emYyozYpvhXs",
        "colab_type": "text"
      },
      "source": [
        "* Write a function named `median_even` that will compute the median of an even-length list.\n",
        "    * You need to sort, get the middle 2 value with slicing, and average these values."
      ]
    },
    {
      "cell_type": "code",
      "metadata": {
        "id": "A5cHqd8hvhXt",
        "colab_type": "code",
        "colab": {
          "base_uri": "https://localhost:8080/",
          "height": 34
        },
        "outputId": "2be0be14-508e-4bf6-97c8-4dd1703221c0"
      },
      "source": [
        "median_even = lambda L: sorted(L)[int(len(L)/2-1):int(len(L)/2+1)]\n",
        "median_even([1,2])"
      ],
      "execution_count": 89,
      "outputs": [
        {
          "output_type": "execute_result",
          "data": {
            "text/plain": [
              "[1, 2]"
            ]
          },
          "metadata": {
            "tags": []
          },
          "execution_count": 89
        }
      ]
    },
    {
      "cell_type": "code",
      "metadata": {
        "nbpresent": {
          "id": "0198e826-d5ea-414c-ae04-995b0d4ba170"
        },
        "id": "BfP8bK4vvhXy",
        "colab_type": "code",
        "colab": {}
      },
      "source": [
        "# You need to pass these tests\n",
        "def test_median_even():\n",
        "    assert median_odd([1, 2]) == 1.5 # edge case\n",
        "    assert median_odd([1, 2, 2, 3]) == 2.0 # should work on sorted list\n",
        "    assert median_odd([1, 3,4,2]) == 2.5 # needs to sort first\n",
        "test_median_even()"
      ],
      "execution_count": null,
      "outputs": []
    },
    {
      "cell_type": "markdown",
      "metadata": {
        "nbpresent": {
          "id": "4dde7659-919e-4d17-9f8d-ecdb41645a22"
        },
        "id": "cOL4YCqGvhX2",
        "colab_type": "text"
      },
      "source": [
        "* Write a function named `median` that will compute the median of any length list.\n",
        "    * Use the conditional expression along with `median_odd` and `median_even`"
      ]
    },
    {
      "cell_type": "code",
      "metadata": {
        "id": "-_nT5N87vhX3",
        "colab_type": "code",
        "colab": {}
      },
      "source": [
        "median = lambda L: 5 # Fix this!"
      ],
      "execution_count": null,
      "outputs": []
    },
    {
      "cell_type": "markdown",
      "metadata": {
        "nbpresent": {
          "id": "2e1dc285-b7d5-4802-94d7-f17654ad43d2"
        },
        "id": "-gXSQexjvhX8",
        "colab_type": "text"
      },
      "source": [
        "### (Optional) Other Sequence Operations\n",
        "\n",
        "|Operation  | Purpose     |\n",
        "|---------- | ------------|\n",
        "| +         | concatenate |\n",
        "| *         | replicate   |\n",
        "| s[i]      | index       |\n",
        "| s[i:j]    | slice       |\n",
        "| len(s)    | length      |\n",
        "| s in t    | membership  |\n",
        "| s not in t| membership  |"
      ]
    },
    {
      "cell_type": "markdown",
      "metadata": {
        "nbpresent": {
          "id": "e45ac6b1-f224-4bcd-8a38-4c2c1d3a7591"
        },
        "id": "wLYcCCsivhX-",
        "colab_type": "text"
      },
      "source": [
        "## Arithmetic"
      ]
    },
    {
      "cell_type": "code",
      "metadata": {
        "nbpresent": {
          "id": "4e4aee86-02f2-48b3-a59e-af9269c1dc25"
        },
        "id": "5-kORkh4vhX_",
        "colab_type": "code",
        "colab": {},
        "outputId": "a3bc18f5-ff77-44d3-cbcf-102061ebcbd1"
      },
      "source": [
        "\"123\" + \"abc\""
      ],
      "execution_count": null,
      "outputs": [
        {
          "output_type": "execute_result",
          "data": {
            "text/plain": [
              "'123abc'"
            ]
          },
          "metadata": {
            "tags": []
          },
          "execution_count": 1
        }
      ]
    },
    {
      "cell_type": "code",
      "metadata": {
        "nbpresent": {
          "id": "af4fccfe-5504-450d-8968-551c7efb0116"
        },
        "id": "9T8-HKPmvhYC",
        "colab_type": "code",
        "colab": {},
        "outputId": "d66743d6-7f09-40a0-ece0-a25cd0b98459"
      },
      "source": [
        "[1,2,3] + [\"a\",\"b\",\"c\"]"
      ],
      "execution_count": null,
      "outputs": [
        {
          "output_type": "execute_result",
          "data": {
            "text/plain": [
              "[1, 2, 3, 'a', 'b', 'c']"
            ]
          },
          "metadata": {
            "tags": []
          },
          "execution_count": 2
        }
      ]
    },
    {
      "cell_type": "code",
      "metadata": {
        "nbpresent": {
          "id": "ab3f85df-d2c0-4208-bdb0-a16b9d7d5e82"
        },
        "id": "Y14ubpKSvhYJ",
        "colab_type": "code",
        "colab": {},
        "outputId": "59e402fe-d4ab-497f-84a1-34c4be580767"
      },
      "source": [
        "3*[1,2,3]"
      ],
      "execution_count": null,
      "outputs": [
        {
          "output_type": "execute_result",
          "data": {
            "text/plain": [
              "[1, 2, 3, 1, 2, 3, 1, 2, 3]"
            ]
          },
          "metadata": {
            "tags": []
          },
          "execution_count": 3
        }
      ]
    },
    {
      "cell_type": "code",
      "metadata": {
        "nbpresent": {
          "id": "0b89ff0d-f7a7-44dc-a837-6a4025ffd8f2"
        },
        "id": "pu8whG2BvhYM",
        "colab_type": "code",
        "colab": {},
        "outputId": "2c1d6b18-1bd8-4824-8244-93e96c9f12ce"
      },
      "source": [
        "3*\"Wow\" + 4*\"!\""
      ],
      "execution_count": null,
      "outputs": [
        {
          "output_type": "execute_result",
          "data": {
            "text/plain": [
              "'WowWowWow!!!!'"
            ]
          },
          "metadata": {
            "tags": []
          },
          "execution_count": 4
        }
      ]
    },
    {
      "cell_type": "code",
      "metadata": {
        "nbpresent": {
          "id": "14ae61dc-3a2a-463b-8072-ca7a6794290e"
        },
        "id": "j7bFsB2qvhYR",
        "colab_type": "code",
        "colab": {},
        "outputId": "e013dc60-48c6-43f2-9982-04e7d31a0c5b"
      },
      "source": [
        "2*('a', 'b') + ('c',)"
      ],
      "execution_count": null,
      "outputs": [
        {
          "output_type": "execute_result",
          "data": {
            "text/plain": [
              "('a', 'b', 'a', 'b', 'c')"
            ]
          },
          "metadata": {
            "tags": []
          },
          "execution_count": 5
        }
      ]
    },
    {
      "cell_type": "markdown",
      "metadata": {
        "id": "pFBYz_gbvhYU",
        "colab_type": "text"
      },
      "source": [
        "<font color=\"red\"><h2> (Optional) Exercise 3</h2></font>\n",
        "\n",
        "Create the following using concatenation (`+`) and replication (`*`)\n",
        "\n",
        "* [1,1,1,2,2,3,3,3]\n",
        "* \"Tora Tora Tora!\""
      ]
    },
    {
      "cell_type": "code",
      "metadata": {
        "id": "-sezX-zIvhYV",
        "colab_type": "code",
        "colab": {}
      },
      "source": [
        ""
      ],
      "execution_count": null,
      "outputs": []
    }
  ]
}