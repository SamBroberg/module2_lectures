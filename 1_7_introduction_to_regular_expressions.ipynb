{
  "nbformat": 4,
  "nbformat_minor": 0,
  "metadata": {
    "celltoolbar": "Slideshow",
    "kernelspec": {
      "display_name": "Python 3",
      "language": "python",
      "name": "python3"
    },
    "language_info": {
      "codemirror_mode": {
        "name": "ipython",
        "version": 3
      },
      "file_extension": ".py",
      "mimetype": "text/x-python",
      "name": "python",
      "nbconvert_exporter": "python",
      "pygments_lexer": "ipython3",
      "version": "3.7.2"
    },
    "varInspector": {
      "cols": {
        "lenName": 16,
        "lenType": 16,
        "lenVar": 40
      },
      "kernels_config": {
        "python": {
          "delete_cmd_postfix": "",
          "delete_cmd_prefix": "del ",
          "library": "var_list.py",
          "varRefreshCmd": "print(var_dic_list())"
        },
        "r": {
          "delete_cmd_postfix": ") ",
          "delete_cmd_prefix": "rm(",
          "library": "var_list.r",
          "varRefreshCmd": "cat(var_dic_list()) "
        }
      },
      "types_to_exclude": [
        "module",
        "function",
        "builtin_function_or_method",
        "instance",
        "_Feature"
      ],
      "window_display": false
    },
    "colab": {
      "name": "1_7_introduction_to_regular_expressions.ipynb",
      "provenance": [],
      "include_colab_link": true
    }
  },
  "cells": [
    {
      "cell_type": "markdown",
      "metadata": {
        "id": "view-in-github",
        "colab_type": "text"
      },
      "source": [
        "<a href=\"https://colab.research.google.com/github/SamBroberg/module2_lectures/blob/master/1_7_introduction_to_regular_expressions.ipynb\" target=\"_parent\"><img src=\"https://colab.research.google.com/assets/colab-badge.svg\" alt=\"Open In Colab\"/></a>"
      ]
    },
    {
      "cell_type": "markdown",
      "metadata": {
        "id": "pDJxNvSVqDjt",
        "colab_type": "text"
      },
      "source": [
        "## Regular Expressions\n",
        "\n",
        "<img src=\"https://imgs.xkcd.com/comics/regular_expressions.png \" width=400>"
      ]
    },
    {
      "cell_type": "markdown",
      "metadata": {
        "id": "TTHAr9RxqDjy",
        "colab_type": "text"
      },
      "source": [
        "## RegEx Golf\n",
        "\n",
        "<img src=\"https://imgs.xkcd.com/comics/regex_golf.png\" width=600>"
      ]
    },
    {
      "cell_type": "markdown",
      "metadata": {
        "id": "g7_3fh24qDj1",
        "colab_type": "text"
      },
      "source": [
        "## Perl Problems\n",
        "\n",
        "    Some people, when confronted with a problem, think \"I know, I'll use regular expressions.\" Now they have two problems. - Jamie Zawinski \n",
        "<img src=\"https://imgs.xkcd.com/comics/perl_problems.png\" width=600>"
      ]
    },
    {
      "cell_type": "markdown",
      "metadata": {
        "id": "DnDLJGjoqDj2",
        "colab_type": "text"
      },
      "source": [
        "## <font color=\"red\"> Exercise 1 </font>\n",
        "\n",
        "**Question:** What do all of these strings have in common?\n",
        "\n",
        "* `\"ab\"`\n",
        "* `\"abab\"`\n",
        "* `\"ababcde\"`\n",
        "* `\"abcde\"`"
      ]
    },
    {
      "cell_type": "markdown",
      "metadata": {
        "id": "EH8vDStcqDj5",
        "colab_type": "text"
      },
      "source": [
        "They all are strings with the letters a and b in them. As the first two characters."
      ]
    },
    {
      "cell_type": "markdown",
      "metadata": {
        "id": "7UCjcf7dqDj7",
        "colab_type": "text"
      },
      "source": [
        "## <font color=\"red\"> Exercise 2 </font>\n",
        "\n",
        "**Task:** Predict the next three elements of the sequence.\n",
        "\n",
        "* `\"0\"`\n",
        "* `\"1ab\"`\n",
        "* `\"2abab\"`\n",
        "* `\"3ababab\"`\n"
      ]
    },
    {
      "cell_type": "markdown",
      "metadata": {
        "id": "3sjITHSeqDj-",
        "colab_type": "text"
      },
      "source": [
        "4abababab\n",
        "5ababababab\n",
        "6abababababab"
      ]
    },
    {
      "cell_type": "markdown",
      "metadata": {
        "id": "npW8f8MRqDkG",
        "colab_type": "text"
      },
      "source": [
        "## What is a regular expression\n",
        "\n",
        "* Language for matching regular patterns\n",
        "    * `\"ab\"`\n",
        "    * `\"abab\"`\n",
        "    * `\"ababcde\"`\n",
        "    * `\"abcde\"`\n",
        "* Can't match other, context sensitive, patterns\n",
        "    * `\"0\"`\n",
        "    * `\"1ab\"`\n",
        "    * `\"2abab\"`\n",
        "    * `\"3ababab\"`"
      ]
    },
    {
      "cell_type": "markdown",
      "metadata": {
        "id": "7mQqvx7rqDkJ",
        "colab_type": "text"
      },
      "source": [
        "## <font color=\"red\"> Exercise 3 </font>\n",
        "\n",
        "**Tasks:** \n",
        "\n",
        "1. Go to [RegexOne](https://regexone.com/)\n",
        "2. Read the first section\n",
        "3. Define a pattern that matches the first three strings."
      ]
    },
    {
      "cell_type": "code",
      "metadata": {
        "id": "QIffV_ngqDkM",
        "colab_type": "code",
        "colab": {}
      },
      "source": [
        "pattern1 = \"abc\""
      ],
      "execution_count": null,
      "outputs": []
    },
    {
      "cell_type": "markdown",
      "metadata": {
        "id": "Sa2oj8arqDkV",
        "colab_type": "text"
      },
      "source": [
        "## Regular Expressions Workflow in Python\n",
        "\n",
        "* `import re`\n",
        "* Compile a pattern `regex = re.compile(pattern)`\n",
        "    * Use `r\"pattern\"` to avoid escaping symbols\n",
        "* `m = regex.match(some_string)`"
      ]
    },
    {
      "cell_type": "code",
      "metadata": {
        "id": "XSK0cOrtqDkX",
        "colab_type": "code",
        "colab": {}
      },
      "source": [
        "import re"
      ],
      "execution_count": null,
      "outputs": []
    },
    {
      "cell_type": "code",
      "metadata": {
        "id": "I8VRW8Knr7C7",
        "colab_type": "code",
        "colab": {
          "base_uri": "https://localhost:8080/",
          "height": 118
        },
        "outputId": "7114bb24-8770-43e2-b962-480f85c28cea"
      },
      "source": [
        "help(re.match)"
      ],
      "execution_count": null,
      "outputs": [
        {
          "output_type": "stream",
          "text": [
            "Help on function match in module re:\n",
            "\n",
            "match(pattern, string, flags=0)\n",
            "    Try to apply the pattern at the start of the string, returning\n",
            "    a match object, or None if no match was found.\n",
            "\n"
          ],
          "name": "stdout"
        }
      ]
    },
    {
      "cell_type": "code",
      "metadata": {
        "id": "i7dFL37DqDkf",
        "colab_type": "code",
        "colab": {
          "base_uri": "https://localhost:8080/",
          "height": 34
        },
        "outputId": "6e238b67-3823-4674-d429-c514b987aac4"
      },
      "source": [
        "pattern = r\"ab\" # r is for raw\n",
        "regex = re.compile(pattern)\n",
        "m1 = regex.match('abc')\n",
        "m1"
      ],
      "execution_count": null,
      "outputs": [
        {
          "output_type": "execute_result",
          "data": {
            "text/plain": [
              "<_sre.SRE_Match object; span=(0, 2), match='ab'>"
            ]
          },
          "metadata": {
            "tags": []
          },
          "execution_count": 9
        }
      ]
    },
    {
      "cell_type": "markdown",
      "metadata": {
        "id": "R23NvlMqqDkp",
        "colab_type": "text"
      },
      "source": [
        "## `match` returns `None` when there is no match"
      ]
    },
    {
      "cell_type": "code",
      "metadata": {
        "id": "wy2-evsLqDkq",
        "colab_type": "code",
        "colab": {}
      },
      "source": [
        "m2 = regex.match('acb')\n",
        "m2"
      ],
      "execution_count": null,
      "outputs": []
    },
    {
      "cell_type": "code",
      "metadata": {
        "id": "MOs7lnm7qDkz",
        "colab_type": "code",
        "colab": {
          "base_uri": "https://localhost:8080/",
          "height": 34
        },
        "outputId": "ca6ffc5e-dfae-492b-fe78-a0c46a5ae647"
      },
      "source": [
        "m2 is None"
      ],
      "execution_count": null,
      "outputs": [
        {
          "output_type": "execute_result",
          "data": {
            "text/plain": [
              "True"
            ]
          },
          "metadata": {
            "tags": []
          },
          "execution_count": 11
        }
      ]
    },
    {
      "cell_type": "code",
      "metadata": {
        "id": "_K3YYjAXqDk-",
        "colab_type": "code",
        "colab": {
          "base_uri": "https://localhost:8080/",
          "height": 34
        },
        "outputId": "2992aedc-66d8-4517-9acb-38cf1db2db56"
      },
      "source": [
        "not m2 "
      ],
      "execution_count": null,
      "outputs": [
        {
          "output_type": "execute_result",
          "data": {
            "text/plain": [
              "True"
            ]
          },
          "metadata": {
            "tags": []
          },
          "execution_count": 12
        }
      ]
    },
    {
      "cell_type": "markdown",
      "metadata": {
        "id": "ZctbwHAzqDlE",
        "colab_type": "text"
      },
      "source": [
        "## The result of a match can be used in Boolean expressions"
      ]
    },
    {
      "cell_type": "code",
      "metadata": {
        "id": "5s1oJoRwqDlF",
        "colab_type": "code",
        "colab": {
          "base_uri": "https://localhost:8080/",
          "height": 35
        },
        "outputId": "7ec4b92d-7b95-4c00-9db2-dddac7a7af33"
      },
      "source": [
        "\"Yes\" if m1 else \"No\""
      ],
      "execution_count": null,
      "outputs": [
        {
          "output_type": "execute_result",
          "data": {
            "application/vnd.google.colaboratory.intrinsic+json": {
              "type": "string"
            },
            "text/plain": [
              "'Yes'"
            ]
          },
          "metadata": {
            "tags": []
          },
          "execution_count": 13
        }
      ]
    },
    {
      "cell_type": "code",
      "metadata": {
        "id": "EXvDEVIfqDlN",
        "colab_type": "code",
        "colab": {
          "base_uri": "https://localhost:8080/",
          "height": 35
        },
        "outputId": "e03185ee-1675-474d-ecc2-de04933b594a"
      },
      "source": [
        "\"Yes\" if m2 else \"No\""
      ],
      "execution_count": null,
      "outputs": [
        {
          "output_type": "execute_result",
          "data": {
            "application/vnd.google.colaboratory.intrinsic+json": {
              "type": "string"
            },
            "text/plain": [
              "'No'"
            ]
          },
          "metadata": {
            "tags": []
          },
          "execution_count": 14
        }
      ]
    },
    {
      "cell_type": "markdown",
      "metadata": {
        "id": "QFScUO2xqDlZ",
        "colab_type": "text"
      },
      "source": [
        "## <font color=\"red\"> Exercise 4 </font>\n",
        "\n",
        "**Tasks:** Make sure your pattern from <font color=\"red\"> Exercise 3</font> passes the following `assert` statements."
      ]
    },
    {
      "cell_type": "code",
      "metadata": {
        "id": "5m01TbPsqDla",
        "colab_type": "code",
        "colab": {
          "base_uri": "https://localhost:8080/",
          "height": 229
        },
        "outputId": "5a54c12a-8fe6-492d-9fb6-51d7ee2162e1"
      },
      "source": [
        "pattern1 = \"abc\"\n",
        "my_regex = re.compile(pattern1)\n",
        "assert my_regex.match('abcdefg')\n",
        "assert my_regex.match('abcde')\n",
        "assert my_regex.match('abc')\n",
        "assert not my_regex.match('acb')"
      ],
      "execution_count": 2,
      "outputs": [
        {
          "output_type": "error",
          "ename": "NameError",
          "evalue": "ignored",
          "traceback": [
            "\u001b[0;31m---------------------------------------------------------------------------\u001b[0m",
            "\u001b[0;31mNameError\u001b[0m                                 Traceback (most recent call last)",
            "\u001b[0;32m<ipython-input-2-90e6773d05ee>\u001b[0m in \u001b[0;36m<module>\u001b[0;34m()\u001b[0m\n\u001b[1;32m      1\u001b[0m \u001b[0mpattern1\u001b[0m \u001b[0;34m=\u001b[0m \u001b[0;34m\"abc\"\u001b[0m\u001b[0;34m\u001b[0m\u001b[0;34m\u001b[0m\u001b[0m\n\u001b[0;32m----> 2\u001b[0;31m \u001b[0mmy_regex\u001b[0m \u001b[0;34m=\u001b[0m \u001b[0mre\u001b[0m\u001b[0;34m.\u001b[0m\u001b[0mcompile\u001b[0m\u001b[0;34m(\u001b[0m\u001b[0mpattern1\u001b[0m\u001b[0;34m)\u001b[0m\u001b[0;34m\u001b[0m\u001b[0;34m\u001b[0m\u001b[0m\n\u001b[0m\u001b[1;32m      3\u001b[0m \u001b[0;32massert\u001b[0m \u001b[0mmy_regex\u001b[0m\u001b[0;34m.\u001b[0m\u001b[0mmatch\u001b[0m\u001b[0;34m(\u001b[0m\u001b[0;34m'abcdefg'\u001b[0m\u001b[0;34m)\u001b[0m\u001b[0;34m\u001b[0m\u001b[0;34m\u001b[0m\u001b[0m\n\u001b[1;32m      4\u001b[0m \u001b[0;32massert\u001b[0m \u001b[0mmy_regex\u001b[0m\u001b[0;34m.\u001b[0m\u001b[0mmatch\u001b[0m\u001b[0;34m(\u001b[0m\u001b[0;34m'abcde'\u001b[0m\u001b[0;34m)\u001b[0m\u001b[0;34m\u001b[0m\u001b[0;34m\u001b[0m\u001b[0m\n\u001b[1;32m      5\u001b[0m \u001b[0;32massert\u001b[0m \u001b[0mmy_regex\u001b[0m\u001b[0;34m.\u001b[0m\u001b[0mmatch\u001b[0m\u001b[0;34m(\u001b[0m\u001b[0;34m'abc'\u001b[0m\u001b[0;34m)\u001b[0m\u001b[0;34m\u001b[0m\u001b[0;34m\u001b[0m\u001b[0m\n",
            "\u001b[0;31mNameError\u001b[0m: name 're' is not defined"
          ]
        }
      ]
    },
    {
      "cell_type": "markdown",
      "metadata": {
        "id": "ghFwEyLpqDlg",
        "colab_type": "text"
      },
      "source": [
        "## Whitespace and escaped characters\n",
        "\n",
        "* Whitespace includes spaces, tabs, and newlines\n",
        "* Python uses escape characters: `\"\\t\"`, `\"\\n\"`"
      ]
    },
    {
      "cell_type": "markdown",
      "metadata": {
        "id": "0-RUXr0QqDlh",
        "colab_type": "text"
      },
      "source": [
        "#### Use `\"\\n\"` for newlines"
      ]
    },
    {
      "cell_type": "code",
      "metadata": {
        "id": "2zCAg9LhqDlh",
        "colab_type": "code",
        "colab": {
          "base_uri": "https://localhost:8080/",
          "height": 35
        },
        "outputId": "88ede5ea-b676-47f7-a8d9-edff813cfbd9"
      },
      "source": [
        "\"\\n\""
      ],
      "execution_count": null,
      "outputs": [
        {
          "output_type": "execute_result",
          "data": {
            "application/vnd.google.colaboratory.intrinsic+json": {
              "type": "string"
            },
            "text/plain": [
              "'\\n'"
            ]
          },
          "metadata": {
            "tags": []
          },
          "execution_count": 17
        }
      ]
    },
    {
      "cell_type": "code",
      "metadata": {
        "id": "nSmV-hnAqDln",
        "colab_type": "code",
        "colab": {
          "base_uri": "https://localhost:8080/",
          "height": 50
        },
        "outputId": "cf29f92e-35c0-4bf8-b8ce-ebe9df2feb9d"
      },
      "source": [
        "print('\\n')"
      ],
      "execution_count": null,
      "outputs": [
        {
          "output_type": "stream",
          "text": [
            "\n",
            "\n"
          ],
          "name": "stdout"
        }
      ]
    },
    {
      "cell_type": "code",
      "metadata": {
        "id": "QmnjwfIbqDlv",
        "colab_type": "code",
        "colab": {
          "base_uri": "https://localhost:8080/",
          "height": 50
        },
        "outputId": "8ed98adb-687f-426b-be2f-80495c80a485"
      },
      "source": [
        "print('a\\nb')"
      ],
      "execution_count": null,
      "outputs": [
        {
          "output_type": "stream",
          "text": [
            "a\n",
            "b\n"
          ],
          "name": "stdout"
        }
      ]
    },
    {
      "cell_type": "markdown",
      "metadata": {
        "id": "tykGZAVTqDl0",
        "colab_type": "text"
      },
      "source": [
        "#### Use `\"\\t\"` for tab"
      ]
    },
    {
      "cell_type": "code",
      "metadata": {
        "id": "vW6tbN0WqDl1",
        "colab_type": "code",
        "colab": {
          "base_uri": "https://localhost:8080/",
          "height": 35
        },
        "outputId": "5bd3fcb4-472c-40df-a07f-cd101c239e3d"
      },
      "source": [
        "\"\\t\""
      ],
      "execution_count": null,
      "outputs": [
        {
          "output_type": "execute_result",
          "data": {
            "application/vnd.google.colaboratory.intrinsic+json": {
              "type": "string"
            },
            "text/plain": [
              "'\\t'"
            ]
          },
          "metadata": {
            "tags": []
          },
          "execution_count": 20
        }
      ]
    },
    {
      "cell_type": "code",
      "metadata": {
        "id": "4qUcFIwDqDl6",
        "colab_type": "code",
        "colab": {
          "base_uri": "https://localhost:8080/",
          "height": 34
        },
        "outputId": "04523c03-b6ce-4c78-de7f-b5960c2a256e"
      },
      "source": [
        "print('\\t')"
      ],
      "execution_count": null,
      "outputs": [
        {
          "output_type": "stream",
          "text": [
            "\t\n"
          ],
          "name": "stdout"
        }
      ]
    },
    {
      "cell_type": "code",
      "metadata": {
        "id": "9CVsRKrgqDmA",
        "colab_type": "code",
        "colab": {
          "base_uri": "https://localhost:8080/",
          "height": 34
        },
        "outputId": "06392f7d-1bb6-4ac7-ec52-385ccef8ba46"
      },
      "source": [
        "print('a\\tb')"
      ],
      "execution_count": null,
      "outputs": [
        {
          "output_type": "stream",
          "text": [
            "a\tb\n"
          ],
          "name": "stdout"
        }
      ]
    },
    {
      "cell_type": "markdown",
      "metadata": {
        "id": "yrL83iNrqDmJ",
        "colab_type": "text"
      },
      "source": [
        "## Why use `r\"raw strings\"` in `regex`\n",
        "\n",
        "* Regular strings $\\rightarrow$ `\\` is for special characters: `'\\n'`, `'\\t'`\n",
        "* In regular expressions, `\\` is for\n",
        "    * Escaping: i.e. `\\.` vs. `.`\n",
        "* Without raw string, we would need \n",
        "    * `'\\\\n'`  to match a new line\n",
        "    * `'\\\\t'` to match a tab"
      ]
    },
    {
      "cell_type": "code",
      "metadata": {
        "id": "idGAKP7EqDmK",
        "colab_type": "code",
        "colab": {
          "base_uri": "https://localhost:8080/",
          "height": 35
        },
        "outputId": "4a5ff663-04e4-4b23-8d1a-e099fe444964"
      },
      "source": [
        "r\"\\n\" # Raw string allow us to match newlines without the extra \\"
      ],
      "execution_count": null,
      "outputs": [
        {
          "output_type": "execute_result",
          "data": {
            "application/vnd.google.colaboratory.intrinsic+json": {
              "type": "string"
            },
            "text/plain": [
              "'\\\\n'"
            ]
          },
          "metadata": {
            "tags": []
          },
          "execution_count": 23
        }
      ]
    },
    {
      "cell_type": "markdown",
      "metadata": {
        "id": "7-mSzMIhqDmS",
        "colab_type": "text"
      },
      "source": [
        "## Important `match object` methods\n",
        "\n",
        "<table class=\"docutils\" border=\"1\">\n",
        "<colgroup>\n",
        "<col width=\"29%\">\n",
        "<col width=\"71%\">\n",
        "</colgroup>\n",
        "<thead valign=\"bottom\">\n",
        "<tr class=\"row-odd\"><th class=\"head\">Method/Attribute</th>\n",
        "<th class=\"head\">Purpose</th>\n",
        "</tr>\n",
        "</thead>\n",
        "<tbody valign=\"top\">\n",
        "<tr class=\"row-even\"><td><code class=\"docutils literal notranslate\"><span class=\"pre\">group()</span></code></td>\n",
        "<td>Return the string matched by the RE</td>\n",
        "</tr>\n",
        "<tr class=\"row-odd\"><td><code class=\"docutils literal notranslate\"><span class=\"pre\">start()</span></code></td>\n",
        "<td>Return the starting position of the match</td>\n",
        "</tr>\n",
        "<tr class=\"row-even\"><td><code class=\"docutils literal notranslate\"><span class=\"pre\">end()</span></code></td>\n",
        "<td>Return the ending position of the match</td>\n",
        "</tr>\n",
        "<tr class=\"row-odd\"><td><code class=\"docutils literal notranslate\"><span class=\"pre\">span()</span></code></td>\n",
        "<td>Return a tuple containing the (start, end)\n",
        "positions  of the match</td>\n",
        "</tr>\n",
        "</tbody>\n",
        "</table>"
      ]
    },
    {
      "cell_type": "code",
      "metadata": {
        "id": "tcp2EycnqDmT",
        "colab_type": "code",
        "colab": {},
        "outputId": "e6768108-e8fc-4b04-8c87-2ae42abfd8bc"
      },
      "source": [
        "m1.group()"
      ],
      "execution_count": null,
      "outputs": [
        {
          "output_type": "execute_result",
          "data": {
            "text/plain": [
              "'ab'"
            ]
          },
          "metadata": {
            "tags": []
          },
          "execution_count": 74
        }
      ]
    },
    {
      "cell_type": "code",
      "metadata": {
        "id": "Kvgd-I_AqDmY",
        "colab_type": "code",
        "colab": {},
        "outputId": "c5e76eaf-fd58-4ab3-e6da-413ee41cac73"
      },
      "source": [
        "m1.start(), m.end()"
      ],
      "execution_count": null,
      "outputs": [
        {
          "output_type": "execute_result",
          "data": {
            "text/plain": [
              "(0, 2)"
            ]
          },
          "metadata": {
            "tags": []
          },
          "execution_count": 75
        }
      ]
    },
    {
      "cell_type": "code",
      "metadata": {
        "id": "VuZkmx3ZqDmc",
        "colab_type": "code",
        "colab": {},
        "outputId": "d5345070-47ec-4115-a7d8-85e0139b86a0"
      },
      "source": [
        "m1.span()"
      ],
      "execution_count": null,
      "outputs": [
        {
          "output_type": "execute_result",
          "data": {
            "text/plain": [
              "(0, 2)"
            ]
          },
          "metadata": {
            "tags": []
          },
          "execution_count": 80
        }
      ]
    },
    {
      "cell_type": "markdown",
      "metadata": {
        "id": "YLEZj7uzqDmg",
        "colab_type": "text"
      },
      "source": [
        "## Be sure to check for `None`"
      ]
    },
    {
      "cell_type": "code",
      "metadata": {
        "id": "EljE6lYpqDmg",
        "colab_type": "code",
        "colab": {}
      },
      "source": [
        "m2 # example that DIDN'T match "
      ],
      "execution_count": null,
      "outputs": []
    },
    {
      "cell_type": "code",
      "metadata": {
        "id": "xMP1oDjZqDml",
        "colab_type": "code",
        "colab": {},
        "outputId": "4b1a8bfd-ed5b-478b-c50a-d8fcf14209ec"
      },
      "source": [
        "m2 is None # non-matches return None"
      ],
      "execution_count": null,
      "outputs": [
        {
          "output_type": "execute_result",
          "data": {
            "text/plain": [
              "True"
            ]
          },
          "metadata": {
            "tags": []
          },
          "execution_count": 18
        }
      ]
    },
    {
      "cell_type": "code",
      "metadata": {
        "id": "z9VFmy19qDmr",
        "colab_type": "code",
        "colab": {},
        "outputId": "8ea301bb-cc4b-4e84-bf91-f419b32959b2"
      },
      "source": [
        "m2.group() # Oh you silly 'Nonetype' errors"
      ],
      "execution_count": null,
      "outputs": [
        {
          "output_type": "error",
          "ename": "AttributeError",
          "evalue": "'NoneType' object has no attribute 'group'",
          "traceback": [
            "\u001b[0;31m---------------------------------------------------------------------------\u001b[0m",
            "\u001b[0;31mAttributeError\u001b[0m                            Traceback (most recent call last)",
            "\u001b[0;32m<ipython-input-21-0951bace4a25>\u001b[0m in \u001b[0;36m<module>\u001b[0;34m()\u001b[0m\n\u001b[0;32m----> 1\u001b[0;31m \u001b[0mm2\u001b[0m\u001b[0;34m.\u001b[0m\u001b[0mgroup\u001b[0m\u001b[0;34m(\u001b[0m\u001b[0;34m)\u001b[0m \u001b[0;31m# Oh you silly 'Nonetype' errors\u001b[0m\u001b[0;34m\u001b[0m\u001b[0m\n\u001b[0m",
            "\u001b[0;31mAttributeError\u001b[0m: 'NoneType' object has no attribute 'group'"
          ]
        }
      ]
    },
    {
      "cell_type": "markdown",
      "metadata": {
        "id": "x1BIAbGmqDmv",
        "colab_type": "text"
      },
      "source": [
        "## Solution 1\n",
        "\n",
        "Always check for `None`"
      ]
    },
    {
      "cell_type": "code",
      "metadata": {
        "id": "iJ584ak4qDmx",
        "colab_type": "code",
        "colab": {}
      },
      "source": [
        "m2.group() if m2 else None"
      ],
      "execution_count": null,
      "outputs": []
    },
    {
      "cell_type": "markdown",
      "metadata": {
        "id": "nkx3jf0UqDm5",
        "colab_type": "text"
      },
      "source": [
        "## Solution 2\n",
        "\n",
        "Learn about the [`Maybe` monad](https://en.wikipedia.org/wiki/Monad_(functional_programming)#An_example:_Maybe). (We will tackle this in a later chapter.)"
      ]
    },
    {
      "cell_type": "markdown",
      "metadata": {
        "id": "5be52a3PqDm6",
        "colab_type": "text"
      },
      "source": [
        "## Python regex methods\n",
        "\n",
        "<table class=\"docutils\" border=\"1\">\n",
        "<colgroup>\n",
        "<col width=\"28%\">\n",
        "<col width=\"72%\">\n",
        "</colgroup>\n",
        "<thead valign=\"bottom\">\n",
        "<tr class=\"row-odd\"><th class=\"head\">Method/Attribute</th>\n",
        "<th class=\"head\">Purpose</th>\n",
        "</tr>\n",
        "</thead>\n",
        "<tbody valign=\"top\">\n",
        "<tr class=\"row-even\"><td><code class=\"docutils literal notranslate\"><span class=\"pre\">match()</span></code></td>\n",
        "<td>Determine if the RE matches at the beginning\n",
        "of the string.</td>\n",
        "</tr>\n",
        "<tr class=\"row-odd\"><td><code class=\"docutils literal notranslate\"><span class=\"pre\">search()</span></code></td>\n",
        "<td>Scan through a string, looking for any\n",
        "location where this RE matches.</td>\n",
        "</tr>\n",
        "<tr class=\"row-even\"><td><code class=\"docutils literal notranslate\"><span class=\"pre\">findall()</span></code></td>\n",
        "<td>Find all substrings where the RE matches, and\n",
        "returns them as a list.</td>\n",
        "</tr>\n",
        "<tr class=\"row-odd\"><td><code class=\"docutils literal notranslate\"><span class=\"pre\">finditer()</span></code></td>\n",
        "<td>Find all substrings where the RE matches, and\n",
        "returns them as an <a class=\"reference internal\" href=\"../glossary.html#term-iterator\"><span class=\"xref std std-term\">iterator</span></a>.</td>\n",
        "</tr>\n",
        "</tbody>\n",
        "</table>\n",
        "\n",
        "**Source:** [Python documentation](https://docs.python.org/3/howto/regex.html)"
      ]
    },
    {
      "cell_type": "markdown",
      "metadata": {
        "id": "sUEUjkJHqDm8",
        "colab_type": "text"
      },
      "source": [
        "## A better `str.replace`\n",
        "\n",
        "* Often chain many `replace` calls\n",
        "* Example `s.replace('(', '').replace(')','').replace(':', '')`\n",
        "* We can use `re.sub` to simplify."
      ]
    },
    {
      "cell_type": "code",
      "metadata": {
        "id": "h43vg2t7qDm-",
        "colab_type": "code",
        "colab": {},
        "outputId": "46e85549-b612-4ebe-fd34-6afd982d76c8"
      },
      "source": [
        "s = \"The string (has) some: things in (it)\"\n",
        "s.replace('(', '').replace(')','').replace(':', '')"
      ],
      "execution_count": null,
      "outputs": [
        {
          "output_type": "execute_result",
          "data": {
            "text/plain": [
              "'The string has some things in it'"
            ]
          },
          "metadata": {
            "tags": []
          },
          "execution_count": 7
        }
      ]
    },
    {
      "cell_type": "code",
      "metadata": {
        "id": "W_v21HzTqDnD",
        "colab_type": "code",
        "colab": {},
        "outputId": "b41c0dc5-1b6e-4b64-9f0d-683273e7ca7f"
      },
      "source": [
        "re.sub(r\"[():]\", '', s)"
      ],
      "execution_count": null,
      "outputs": [
        {
          "output_type": "execute_result",
          "data": {
            "text/plain": [
              "'The string has some things in it'"
            ]
          },
          "metadata": {
            "tags": []
          },
          "execution_count": 8
        }
      ]
    },
    {
      "cell_type": "markdown",
      "metadata": {
        "id": "iZEIriXfqDnH",
        "colab_type": "text"
      },
      "source": [
        "## Substitutions with a compiled RegEx\n",
        "\n",
        "1. Compile a pattern\n",
        "2. Use `pat.sub(new_substr, s)`"
      ]
    },
    {
      "cell_type": "code",
      "metadata": {
        "id": "FokbYbR1qDnI",
        "colab_type": "code",
        "colab": {},
        "outputId": "841b56d5-a19d-4413-d4ff-06885bb7f74e"
      },
      "source": [
        "paren_or_colon = re.compile(r\"[():]\")\n",
        "paren_or_colon.sub('', s)"
      ],
      "execution_count": null,
      "outputs": [
        {
          "output_type": "execute_result",
          "data": {
            "text/plain": [
              "'The string has some things in it'"
            ]
          },
          "metadata": {
            "tags": []
          },
          "execution_count": 9
        }
      ]
    },
    {
      "cell_type": "markdown",
      "metadata": {
        "id": "fRvhXir-qDnM",
        "colab_type": "text"
      },
      "source": [
        "## <font color=\"red\"> Exercise 4 </font>\n",
        "\n",
        "**Task:** Write and test a function that uses `re.sub` to remove all punctuation from a string.  **Hint:** Use the `punctuation` variable from the `string` module."
      ]
    },
    {
      "cell_type": "code",
      "metadata": {
        "id": "JG7S9RVSqDnN",
        "colab_type": "code",
        "colab": {}
      },
      "source": [
        ""
      ],
      "execution_count": null,
      "outputs": []
    },
    {
      "cell_type": "code",
      "metadata": {
        "colab_type": "code",
        "id": "m5h_lnlNuudD",
        "colab": {
          "base_uri": "https://localhost:8080/",
          "height": 229
        },
        "outputId": "baaebd9d-fe02-4da1-e4c9-11f39b9fa0b5"
      },
      "source": [
        "### lesson 1\n",
        "pattern1 = \"abc\"\n",
        "my_regex = re.compile(pattern1)\n",
        "assert my_regex.match('abcdefg')\n",
        "assert my_regex.match('abcde')\n",
        "assert my_regex.match('abc')\n",
        "assert not my_regex.match('acb')"
      ],
      "execution_count": 1,
      "outputs": [
        {
          "output_type": "error",
          "ename": "NameError",
          "evalue": "ignored",
          "traceback": [
            "\u001b[0;31m---------------------------------------------------------------------------\u001b[0m",
            "\u001b[0;31mNameError\u001b[0m                                 Traceback (most recent call last)",
            "\u001b[0;32m<ipython-input-1-a540a441bd55>\u001b[0m in \u001b[0;36m<module>\u001b[0;34m()\u001b[0m\n\u001b[1;32m      1\u001b[0m \u001b[0;31m### lesson 1\u001b[0m\u001b[0;34m\u001b[0m\u001b[0;34m\u001b[0m\u001b[0;34m\u001b[0m\u001b[0m\n\u001b[1;32m      2\u001b[0m \u001b[0mpattern1\u001b[0m \u001b[0;34m=\u001b[0m \u001b[0;34m\"abc\"\u001b[0m\u001b[0;34m\u001b[0m\u001b[0;34m\u001b[0m\u001b[0m\n\u001b[0;32m----> 3\u001b[0;31m \u001b[0mmy_regex\u001b[0m \u001b[0;34m=\u001b[0m \u001b[0mre\u001b[0m\u001b[0;34m.\u001b[0m\u001b[0mcompile\u001b[0m\u001b[0;34m(\u001b[0m\u001b[0mpattern1\u001b[0m\u001b[0;34m)\u001b[0m\u001b[0;34m\u001b[0m\u001b[0;34m\u001b[0m\u001b[0m\n\u001b[0m\u001b[1;32m      4\u001b[0m \u001b[0;32massert\u001b[0m \u001b[0mmy_regex\u001b[0m\u001b[0;34m.\u001b[0m\u001b[0mmatch\u001b[0m\u001b[0;34m(\u001b[0m\u001b[0;34m'abcdefg'\u001b[0m\u001b[0;34m)\u001b[0m\u001b[0;34m\u001b[0m\u001b[0;34m\u001b[0m\u001b[0m\n\u001b[1;32m      5\u001b[0m \u001b[0;32massert\u001b[0m \u001b[0mmy_regex\u001b[0m\u001b[0;34m.\u001b[0m\u001b[0mmatch\u001b[0m\u001b[0;34m(\u001b[0m\u001b[0;34m'abcde'\u001b[0m\u001b[0;34m)\u001b[0m\u001b[0;34m\u001b[0m\u001b[0;34m\u001b[0m\u001b[0m\n",
            "\u001b[0;31mNameError\u001b[0m: name 're' is not defined"
          ]
        }
      ]
    },
    {
      "cell_type": "code",
      "metadata": {
        "colab_type": "code",
        "id": "Aya_jzXauzk7",
        "colab": {}
      },
      "source": [
        "#lesson 1 1/2\n",
        "pattern1 = \"[123]\"\n",
        "my_regex = re.compile(pattern1)\n",
        "assert my_regex.match('abc123xyz')\n",
        "assert my_regex.match('define \"123\"')\n",
        "assert my_regex.match('var g = 123')\n",
        "assert not my_regex.match('acb')"
      ],
      "execution_count": null,
      "outputs": []
    },
    {
      "cell_type": "code",
      "metadata": {
        "colab_type": "code",
        "id": "hxaZ5Pdsuz2b",
        "colab": {}
      },
      "source": [
        "#lesson 2\n",
        "pattern1 = \"...\\.\"\n",
        "my_regex = re.compile(pattern1)\n",
        "assert my_regex.match('cat.')\n",
        "assert my_regex.match('896.')\n",
        "assert my_regex.match('?=+.')\n",
        "assert not my_regex.match('abc1')"
      ],
      "execution_count": null,
      "outputs": []
    },
    {
      "cell_type": "code",
      "metadata": {
        "colab_type": "code",
        "id": "PDbgNDLyu0Co",
        "colab": {}
      },
      "source": [
        "#Lesson 3\n",
        "pattern1 = \"[cmf]\"\n",
        "my_regex = re.compile(pattern1)\n",
        "assert my_regex.match('can')\n",
        "assert my_regex.match('man')\n",
        "assert my_regex.match('fan')\n",
        "assert not my_regex.match('dan')\n",
        "assert not my_regex.match('ran')\n",
        "assert not my_regex.match('pan')"
      ],
      "execution_count": null,
      "outputs": []
    },
    {
      "cell_type": "code",
      "metadata": {
        "colab_type": "code",
        "id": "y8x4APLAbOk-",
        "colab": {}
      },
      "source": [
        "#Lesson 4\n",
        "pattern1 = \"[^b]..\"\n",
        "my_regex = re.compile(pattern1)\n",
        "assert my_regex.match('hog')\n",
        "assert my_regex.match('dog')\n",
        "assert not my_regex.match('bog')"
      ],
      "execution_count": null,
      "outputs": []
    },
    {
      "cell_type": "code",
      "metadata": {
        "colab_type": "code",
        "id": "wv4PUIJkbPEe",
        "colab": {}
      },
      "source": [
        "#Lesson 5\n",
        "pattern1 = \"[^a-cx-z]\"\n",
        "my_regex = re.compile(pattern1)\n",
        "assert my_regex.match('Ana')\n",
        "assert my_regex.match('Bob')\n",
        "assert my_regex.match('Cpc')\n",
        "assert not my_regex.match('aax')\n",
        "assert not my_regex.match('bby')\n",
        "assert not my_regex.match('ccz')"
      ],
      "execution_count": null,
      "outputs": []
    },
    {
      "cell_type": "code",
      "metadata": {
        "colab_type": "code",
        "id": "7z-TdGThbPPb",
        "colab": {}
      },
      "source": [
        "#Lesson 6\n",
        "pattern1 = \"waz{2,3}\"\n",
        "my_regex = re.compile(pattern1)\n",
        "assert my_regex.match('wazzzzzup')\n",
        "assert my_regex.match('wazzzup')\n",
        "assert not my_regex.match('wazup')"
      ],
      "execution_count": null,
      "outputs": []
    },
    {
      "cell_type": "code",
      "metadata": {
        "colab_type": "code",
        "id": "OSJqwfApbPZx",
        "colab": {}
      },
      "source": [
        "#Lesson 7\n",
        "pattern1 = \"a{2}\"\n",
        "my_regex = re.compile(pattern1)\n",
        "assert my_regex.match('aaaabcc')\n",
        "assert my_regex.match('aabbbc')\n",
        "assert my_regex.match('aacc')\n",
        "assert not my_regex.match('a')"
      ],
      "execution_count": null,
      "outputs": []
    },
    {
      "cell_type": "code",
      "metadata": {
        "colab_type": "code",
        "id": "5xhQVOIujADc",
        "colab": {}
      },
      "source": [
        "#Lesson 8\n",
        "pattern1 = \"[14?2]\"\n",
        "my_regex = re.compile(pattern1)\n",
        "assert my_regex.match('1 files found?')\n",
        "assert my_regex.match('2 files found?')\n",
        "assert my_regex.match('24 files found?')\n",
        "assert not my_regex.match('No files found.')"
      ],
      "execution_count": null,
      "outputs": []
    },
    {
      "cell_type": "code",
      "metadata": {
        "colab_type": "code",
        "id": "wTZyWWtIjAXQ",
        "colab": {}
      },
      "source": [
        "#Lesson 9\n",
        "pattern1 = \"\\d\\.\\s\"\n",
        "my_regex = re.compile(pattern1)\n",
        "assert my_regex.match('1. abc')\n",
        "assert my_regex.match('2.  abc')\n",
        "assert my_regex.match('3.     abc')\n",
        "assert not my_regex.match('4.abc')"
      ],
      "execution_count": null,
      "outputs": []
    },
    {
      "cell_type": "code",
      "metadata": {
        "colab_type": "code",
        "id": "j8gSLxyTjAl3",
        "colab": {}
      },
      "source": [
        "#Lesson 10\n",
        "pattern1 = \"^Mission: successful$\"\n",
        "my_regex = re.compile(pattern1)\n",
        "assert my_regex.match('Mission: successful')\n",
        "assert not my_regex.match('Last Mission: unsuccessful')\n",
        "assert not my_regex.match('Next Mission: successful upon capture of tarfget')"
      ],
      "execution_count": null,
      "outputs": []
    },
    {
      "cell_type": "code",
      "metadata": {
        "colab_type": "code",
        "id": "yCiPHo5IjBAA",
        "colab": {}
      },
      "source": [
        "#Lesson 11\n",
        "pattern1 = \"^(file_.+)\\.pdf$\"\n",
        "my_regex = re.compile(pattern1)\n",
        "assert my_regex.match('file_record_transcript.pdf')\n",
        "assert my_regex.match('file_07241999.pdf')\n",
        "assert not my_regex.match('testfile_fake.pdf.tmp')"
      ],
      "execution_count": null,
      "outputs": []
    },
    {
      "cell_type": "code",
      "metadata": {
        "colab_type": "code",
        "id": "eliImLkojBLT",
        "colab": {}
      },
      "source": [
        "#Lesson 12\n",
        "pattern1 = \"^(\\D+(\\d+))\"\n",
        "my_regex = re.compile(pattern1)\n",
        "assert my_regex.match('Jan 1987')\n",
        "assert my_regex.match('May 1969')\n",
        "assert my_regex.match('Aug 2011')"
      ],
      "execution_count": null,
      "outputs": []
    },
    {
      "cell_type": "code",
      "metadata": {
        "colab_type": "code",
        "id": "vb2f2l0ojBXr",
        "colab": {}
      },
      "source": [
        "#Lesson 13\n",
        "pattern1 = \"(\\d+)x(\\d+)\"\n",
        "my_regex = re.compile(pattern1)\n",
        "assert my_regex.match('1280x720')\n",
        "assert my_regex.match('1920x1600')\n",
        "assert my_regex.match('1024x768')"
      ],
      "execution_count": null,
      "outputs": []
    },
    {
      "cell_type": "code",
      "metadata": {
        "colab_type": "code",
        "id": "Bu65Ag1rwS8D",
        "colab": {}
      },
      "source": [
        "#Lesson 14\n",
        "pattern1 = \"I love (dogs|cats)\"\n",
        "my_regex = re.compile(pattern1)\n",
        "assert my_regex.match('I love cats')\n",
        "assert my_regex.match('I love dogs')\n",
        "assert not my_regex.match('I love logs')\n",
        "assert not my_regex.match('I love cogs')"
      ],
      "execution_count": null,
      "outputs": []
    },
    {
      "cell_type": "code",
      "metadata": {
        "colab_type": "code",
        "id": "CbD27fGWwTOp",
        "colab": {}
      },
      "source": [
        "#Lesson 15\n",
        "pattern1 = \".*\"\n",
        "my_regex = re.compile(pattern1)\n",
        "assert my_regex.match('The quick brown fox jumps over the lazy dog.')\n",
        "assert my_regex.match('There were 614 instances of students getting 90.0% or above.')\n",
        "assert my_regex.match('The FCC had to censor the network for saying &$#*@!.')"
      ],
      "execution_count": null,
      "outputs": []
    },
    {
      "cell_type": "markdown",
      "metadata": {
        "id": "_4etphNCqDnR",
        "colab_type": "text"
      },
      "source": [
        "## Next Up\n",
        "\n",
        "Now you should read through the rest of [RegExOne](https://regexone.com/) and put your work in [Lab 3](./lab_3_regexone.ipynb)."
      ]
    }
  ]
}